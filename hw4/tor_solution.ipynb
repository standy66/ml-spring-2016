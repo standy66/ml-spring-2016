{
 "cells": [
  {
   "cell_type": "code",
   "execution_count": 1,
   "metadata": {
    "collapsed": true
   },
   "outputs": [],
   "source": [
    "import numpy as np\n",
    "import pandas as pd\n",
    "from collections import namedtuple\n",
    "from sklearn.linear_model import LinearRegression, Ridge\n",
    "from sklearn.cross_validation import cross_val_score\n",
    "from sklearn.feature_extraction.text import HashingVectorizer\n",
    "from gensim.models.doc2vec import Doc2Vec, TaggedDocument"
   ]
  },
  {
   "cell_type": "markdown",
   "metadata": {},
   "source": [
    "## Подготовка данных"
   ]
  },
  {
   "cell_type": "code",
   "execution_count": 2,
   "metadata": {
    "collapsed": false
   },
   "outputs": [],
   "source": [
    "# urls_train\n",
    "urls_train_df = pd.read_csv('kaggle_data/url_domain_train', header=None, delimiter='\\t')\n",
    "urls_train_df.columns = ['id', 'url', 'count']\n",
    "urls_train_df = urls_train_df[['id', 'url']]\n",
    "# urls_test\n",
    "urls_test_df = pd.read_csv('kaggle_data/url_domain_test', header=None, delimiter='\\t')\n",
    "urls_test_df.columns = ['id', 'url', 'count']\n",
    "urls_test_df = urls_test_df[['id', 'url']]"
   ]
  },
  {
   "cell_type": "code",
   "execution_count": 3,
   "metadata": {
    "collapsed": false
   },
   "outputs": [
    {
     "data": {
      "text/html": [
       "<div>\n",
       "<table border=\"1\" class=\"dataframe\">\n",
       "  <thead>\n",
       "    <tr style=\"text-align: right;\">\n",
       "      <th></th>\n",
       "      <th>id</th>\n",
       "      <th>url</th>\n",
       "    </tr>\n",
       "  </thead>\n",
       "  <tbody>\n",
       "    <tr>\n",
       "      <th>0</th>\n",
       "      <td>0000000151004FF4ADD746DA10685A01</td>\n",
       "      <td>afisha.ru</td>\n",
       "    </tr>\n",
       "    <tr>\n",
       "      <th>1</th>\n",
       "      <td>0000000151004FF4ADD746DA10685A01</td>\n",
       "      <td>aif.ru</td>\n",
       "    </tr>\n",
       "    <tr>\n",
       "      <th>2</th>\n",
       "      <td>0000000151004FF4ADD746DA10685A01</td>\n",
       "      <td>aimfar.solution.weborama.fr</td>\n",
       "    </tr>\n",
       "    <tr>\n",
       "      <th>3</th>\n",
       "      <td>0000000151004FF4ADD746DA10685A01</td>\n",
       "      <td>alkotest.ru</td>\n",
       "    </tr>\n",
       "    <tr>\n",
       "      <th>4</th>\n",
       "      <td>0000000151004FF4ADD746DA10685A01</td>\n",
       "      <td>aptekamos.ru</td>\n",
       "    </tr>\n",
       "  </tbody>\n",
       "</table>\n",
       "</div>"
      ],
      "text/plain": [
       "                                 id                          url\n",
       "0  0000000151004FF4ADD746DA10685A01                    afisha.ru\n",
       "1  0000000151004FF4ADD746DA10685A01                       aif.ru\n",
       "2  0000000151004FF4ADD746DA10685A01  aimfar.solution.weborama.fr\n",
       "3  0000000151004FF4ADD746DA10685A01                  alkotest.ru\n",
       "4  0000000151004FF4ADD746DA10685A01                 aptekamos.ru"
      ]
     },
     "execution_count": 3,
     "metadata": {},
     "output_type": "execute_result"
    }
   ],
   "source": [
    "urls_train_df.head()\n",
    "urls_test_df.head()"
   ]
  },
  {
   "cell_type": "code",
   "execution_count": 4,
   "metadata": {
    "collapsed": false
   },
   "outputs": [],
   "source": [
    "# urls_train\n",
    "urls_train_df = pd.DataFrame(urls_train_df.groupby('id')['url'].apply(lambda x: x.tolist()))\n",
    "urls_train_df['id'] = urls_train_df.index\n",
    "urls_train_df.index = range(len(urls_train_df))\n",
    "urls_train_df.columns = ['urls', 'id']\n",
    "#urls_test\n",
    "urls_test_df = pd.DataFrame(urls_test_df.groupby('id')['url'].apply(lambda x: x.tolist()))\n",
    "urls_test_df['id'] = urls_test_df.index\n",
    "urls_test_df.index = range(len(urls_test_df))\n",
    "urls_test_df.columns = ['urls', 'id']"
   ]
  },
  {
   "cell_type": "code",
   "execution_count": 5,
   "metadata": {
    "collapsed": false
   },
   "outputs": [
    {
     "data": {
      "text/html": [
       "<div>\n",
       "<table border=\"1\" class=\"dataframe\">\n",
       "  <thead>\n",
       "    <tr style=\"text-align: right;\">\n",
       "      <th></th>\n",
       "      <th>urls</th>\n",
       "      <th>id</th>\n",
       "    </tr>\n",
       "  </thead>\n",
       "  <tbody>\n",
       "    <tr>\n",
       "      <th>0</th>\n",
       "      <td>[1000bankov.ru, 1tv.ru, 4put.ru, argumenti.ru,...</td>\n",
       "      <td>000000014A02348E701552980349FF01</td>\n",
       "    </tr>\n",
       "    <tr>\n",
       "      <th>1</th>\n",
       "      <td>[autorambler.ru, bilettorg.ru, dsol-druzhba.ru...</td>\n",
       "      <td>000000014A10EA183BF8594A0B2AB201</td>\n",
       "    </tr>\n",
       "    <tr>\n",
       "      <th>2</th>\n",
       "      <td>[photosight.ru, rambler.ru]</td>\n",
       "      <td>000000014A4FE5C33A929D4C26943601</td>\n",
       "    </tr>\n",
       "    <tr>\n",
       "      <th>3</th>\n",
       "      <td>[base.consultant.ru, dogovor-obrazets.ru, fd.r...</td>\n",
       "      <td>000000014B7BB9957784A9BC0AC9F401</td>\n",
       "    </tr>\n",
       "    <tr>\n",
       "      <th>4</th>\n",
       "      <td>[assessor.ru, audit-it.ru, base.garant.ru, com...</td>\n",
       "      <td>000000014C7749F896D82C2B01E8B801</td>\n",
       "    </tr>\n",
       "  </tbody>\n",
       "</table>\n",
       "</div>"
      ],
      "text/plain": [
       "                                                urls  \\\n",
       "0  [1000bankov.ru, 1tv.ru, 4put.ru, argumenti.ru,...   \n",
       "1  [autorambler.ru, bilettorg.ru, dsol-druzhba.ru...   \n",
       "2                        [photosight.ru, rambler.ru]   \n",
       "3  [base.consultant.ru, dogovor-obrazets.ru, fd.r...   \n",
       "4  [assessor.ru, audit-it.ru, base.garant.ru, com...   \n",
       "\n",
       "                                 id  \n",
       "0  000000014A02348E701552980349FF01  \n",
       "1  000000014A10EA183BF8594A0B2AB201  \n",
       "2  000000014A4FE5C33A929D4C26943601  \n",
       "3  000000014B7BB9957784A9BC0AC9F401  \n",
       "4  000000014C7749F896D82C2B01E8B801  "
      ]
     },
     "execution_count": 5,
     "metadata": {},
     "output_type": "execute_result"
    }
   ],
   "source": [
    "urls_train_df.head()\n",
    "urls_test_df.head()"
   ]
  },
  {
   "cell_type": "code",
   "execution_count": 6,
   "metadata": {
    "collapsed": false
   },
   "outputs": [],
   "source": [
    "age_train_df = pd.read_csv('kaggle_data/age_profile_train', header=None, delimiter='\\t')\n",
    "age_train_df.columns = ['id', 'age']"
   ]
  },
  {
   "cell_type": "code",
   "execution_count": 7,
   "metadata": {
    "collapsed": false
   },
   "outputs": [
    {
     "data": {
      "text/html": [
       "<div>\n",
       "<table border=\"1\" class=\"dataframe\">\n",
       "  <thead>\n",
       "    <tr style=\"text-align: right;\">\n",
       "      <th></th>\n",
       "      <th>id</th>\n",
       "      <th>age</th>\n",
       "    </tr>\n",
       "  </thead>\n",
       "  <tbody>\n",
       "    <tr>\n",
       "      <th>0</th>\n",
       "      <td>000000013CB5719C0000A2C90002C101</td>\n",
       "      <td>53</td>\n",
       "    </tr>\n",
       "    <tr>\n",
       "      <th>1</th>\n",
       "      <td>00000001442BE24000001B7D00F50801</td>\n",
       "      <td>48</td>\n",
       "    </tr>\n",
       "    <tr>\n",
       "      <th>2</th>\n",
       "      <td>00000001448580F800003F1B31FB0901</td>\n",
       "      <td>28</td>\n",
       "    </tr>\n",
       "    <tr>\n",
       "      <th>3</th>\n",
       "      <td>0000000145BDB2FF000157971645E901</td>\n",
       "      <td>44</td>\n",
       "    </tr>\n",
       "    <tr>\n",
       "      <th>4</th>\n",
       "      <td>000000014602771F0000DB9359714C01</td>\n",
       "      <td>48</td>\n",
       "    </tr>\n",
       "  </tbody>\n",
       "</table>\n",
       "</div>"
      ],
      "text/plain": [
       "                                 id  age\n",
       "0  000000013CB5719C0000A2C90002C101   53\n",
       "1  00000001442BE24000001B7D00F50801   48\n",
       "2  00000001448580F800003F1B31FB0901   28\n",
       "3  0000000145BDB2FF000157971645E901   44\n",
       "4  000000014602771F0000DB9359714C01   48"
      ]
     },
     "execution_count": 7,
     "metadata": {},
     "output_type": "execute_result"
    }
   ],
   "source": [
    "age_train_df.head()"
   ]
  },
  {
   "cell_type": "code",
   "execution_count": 8,
   "metadata": {
    "collapsed": false,
    "scrolled": false
   },
   "outputs": [],
   "source": [
    "train_df = urls_train_df.merge(age_train_df, on='id', how='left')"
   ]
  },
  {
   "cell_type": "code",
   "execution_count": 9,
   "metadata": {
    "collapsed": false
   },
   "outputs": [
    {
     "data": {
      "text/html": [
       "<div>\n",
       "<table border=\"1\" class=\"dataframe\">\n",
       "  <thead>\n",
       "    <tr style=\"text-align: right;\">\n",
       "      <th></th>\n",
       "      <th>urls</th>\n",
       "      <th>id</th>\n",
       "      <th>age</th>\n",
       "    </tr>\n",
       "  </thead>\n",
       "  <tbody>\n",
       "    <tr>\n",
       "      <th>0</th>\n",
       "      <td>[id.rambler.ru, mail.rambler.ru, r0.ru]</td>\n",
       "      <td>000000013CB5719C0000A2C90002C101</td>\n",
       "      <td>53</td>\n",
       "    </tr>\n",
       "    <tr>\n",
       "      <th>1</th>\n",
       "      <td>[1prime.ru, autorambler.ru, chellak.ru, docs.c...</td>\n",
       "      <td>00000001442BE24000001B7D00F50801</td>\n",
       "      <td>48</td>\n",
       "    </tr>\n",
       "    <tr>\n",
       "      <th>2</th>\n",
       "      <td>[bosch-korolev.ru]</td>\n",
       "      <td>00000001448580F800003F1B31FB0901</td>\n",
       "      <td>28</td>\n",
       "    </tr>\n",
       "    <tr>\n",
       "      <th>3</th>\n",
       "      <td>[aptekanizkihcen.ua, colady.ru, gorod.dp.ua, i...</td>\n",
       "      <td>0000000145BDB2FF000157971645E901</td>\n",
       "      <td>44</td>\n",
       "    </tr>\n",
       "    <tr>\n",
       "      <th>4</th>\n",
       "      <td>[astrorok.ru, diets.ru, edaplus.info, eshzdoro...</td>\n",
       "      <td>000000014602771F0000DB9359714C01</td>\n",
       "      <td>48</td>\n",
       "    </tr>\n",
       "  </tbody>\n",
       "</table>\n",
       "</div>"
      ],
      "text/plain": [
       "                                                urls  \\\n",
       "0            [id.rambler.ru, mail.rambler.ru, r0.ru]   \n",
       "1  [1prime.ru, autorambler.ru, chellak.ru, docs.c...   \n",
       "2                                 [bosch-korolev.ru]   \n",
       "3  [aptekanizkihcen.ua, colady.ru, gorod.dp.ua, i...   \n",
       "4  [astrorok.ru, diets.ru, edaplus.info, eshzdoro...   \n",
       "\n",
       "                                 id  age  \n",
       "0  000000013CB5719C0000A2C90002C101   53  \n",
       "1  00000001442BE24000001B7D00F50801   48  \n",
       "2  00000001448580F800003F1B31FB0901   28  \n",
       "3  0000000145BDB2FF000157971645E901   44  \n",
       "4  000000014602771F0000DB9359714C01   48  "
      ]
     },
     "execution_count": 9,
     "metadata": {},
     "output_type": "execute_result"
    }
   ],
   "source": [
    "train_df.head()"
   ]
  },
  {
   "cell_type": "code",
   "execution_count": 10,
   "metadata": {
    "collapsed": false
   },
   "outputs": [],
   "source": [
    "title_train_df = pd.read_csv('kaggle_data/title_unify_train', header=None,delimiter='\\t')\n",
    "title_test_df = pd.read_csv('kaggle_data/title_unify_test', header=None,delimiter='\\t')"
   ]
  },
  {
   "cell_type": "code",
   "execution_count": 11,
   "metadata": {
    "collapsed": false
   },
   "outputs": [
    {
     "data": {
      "text/html": [
       "<div>\n",
       "<table border=\"1\" class=\"dataframe\">\n",
       "  <thead>\n",
       "    <tr style=\"text-align: right;\">\n",
       "      <th></th>\n",
       "      <th>id</th>\n",
       "      <th>title</th>\n",
       "    </tr>\n",
       "  </thead>\n",
       "  <tbody>\n",
       "    <tr>\n",
       "      <th>0</th>\n",
       "      <td>0000000151790DCC1E8322AF0B6FA701</td>\n",
       "      <td>20-километровый амур китай мост недвижимость п...</td>\n",
       "    </tr>\n",
       "    <tr>\n",
       "      <th>1</th>\n",
       "      <td>0000000151790DCC1E8322AF0B6FA701</td>\n",
       "      <td>24-х 34-х до договор неделя новость предложить...</td>\n",
       "    </tr>\n",
       "    <tr>\n",
       "      <th>2</th>\n",
       "      <td>0000000151790DCC1E8322AF0B6FA701</td>\n",
       "      <td>3xl armour compress heatgear long size sleev s...</td>\n",
       "    </tr>\n",
       "    <tr>\n",
       "      <th>3</th>\n",
       "      <td>0000000151790DCC1E8322AF0B6FA701</td>\n",
       "      <td>4-е ca зачёт медальный место новость ои-2012 п...</td>\n",
       "    </tr>\n",
       "    <tr>\n",
       "      <th>4</th>\n",
       "      <td>0000000151790DCC1E8322AF0B6FA701</td>\n",
       "      <td>4-колёсный moi-bebik oregon oscar ru коляска к...</td>\n",
       "    </tr>\n",
       "  </tbody>\n",
       "</table>\n",
       "</div>"
      ],
      "text/plain": [
       "                                 id  \\\n",
       "0  0000000151790DCC1E8322AF0B6FA701   \n",
       "1  0000000151790DCC1E8322AF0B6FA701   \n",
       "2  0000000151790DCC1E8322AF0B6FA701   \n",
       "3  0000000151790DCC1E8322AF0B6FA701   \n",
       "4  0000000151790DCC1E8322AF0B6FA701   \n",
       "\n",
       "                                               title  \n",
       "0  20-километровый амур китай мост недвижимость п...  \n",
       "1  24-х 34-х до договор неделя новость предложить...  \n",
       "2  3xl armour compress heatgear long size sleev s...  \n",
       "3  4-е ca зачёт медальный место новость ои-2012 п...  \n",
       "4  4-колёсный moi-bebik oregon oscar ru коляска к...  "
      ]
     },
     "execution_count": 11,
     "metadata": {},
     "output_type": "execute_result"
    }
   ],
   "source": [
    "# title train\n",
    "title_train_df.columns = ['id', 'title', 'count']\n",
    "title_train_df = title_train_df[['id', 'title']]\n",
    "# title test\n",
    "title_test_df.columns = ['id', 'title', 'count']\n",
    "title_test_df = title_test_df[['id', 'title']]\n",
    "title_train_df.head()\n",
    "title_test_df.head()"
   ]
  },
  {
   "cell_type": "code",
   "execution_count": 12,
   "metadata": {
    "collapsed": false
   },
   "outputs": [],
   "source": [
    "# title train\n",
    "title_train_df = pd.DataFrame(title_train_df.groupby('id')['title'].apply(lambda f: f.tolist()))\n",
    "title_train_df.columns = ['titles']\n",
    "# title test\n",
    "title_test_df = pd.DataFrame(title_test_df.groupby('id')['title'].apply(lambda f: f.tolist()))\n",
    "title_test_df.columns = ['titles']"
   ]
  },
  {
   "cell_type": "code",
   "execution_count": 13,
   "metadata": {
    "collapsed": false
   },
   "outputs": [
    {
     "data": {
      "text/html": [
       "<div>\n",
       "<table border=\"1\" class=\"dataframe\">\n",
       "  <thead>\n",
       "    <tr style=\"text-align: right;\">\n",
       "      <th></th>\n",
       "      <th>titles</th>\n",
       "      <th>id</th>\n",
       "    </tr>\n",
       "  </thead>\n",
       "  <tbody>\n",
       "    <tr>\n",
       "      <th>0</th>\n",
       "      <td>[11-й гектар дом коммунизм на набережная недос...</td>\n",
       "      <td>000000014A02348E701552980349FF01</td>\n",
       "    </tr>\n",
       "    <tr>\n",
       "      <th>1</th>\n",
       "      <td>[20-летний выглядеть девушка как королева ната...</td>\n",
       "      <td>000000014A10EA183BF8594A0B2AB201</td>\n",
       "    </tr>\n",
       "    <tr>\n",
       "      <th>2</th>\n",
       "      <td>[медийный портал рамблер]</td>\n",
       "      <td>000000014A4FE5C33A929D4C26943601</td>\n",
       "    </tr>\n",
       "    <tr>\n",
       "      <th>3</th>\n",
       "      <td>[бесплатно код онлайн срочно статистика, или и...</td>\n",
       "      <td>000000014B7BB9957784A9BC0AC9F401</td>\n",
       "    </tr>\n",
       "    <tr>\n",
       "      <th>4</th>\n",
       "      <td>[bank privat автокредитование банковский банко...</td>\n",
       "      <td>000000014C7749F896D82C2B01E8B801</td>\n",
       "    </tr>\n",
       "  </tbody>\n",
       "</table>\n",
       "</div>"
      ],
      "text/plain": [
       "                                              titles  \\\n",
       "0  [11-й гектар дом коммунизм на набережная недос...   \n",
       "1  [20-летний выглядеть девушка как королева ната...   \n",
       "2                          [медийный портал рамблер]   \n",
       "3  [бесплатно код онлайн срочно статистика, или и...   \n",
       "4  [bank privat автокредитование банковский банко...   \n",
       "\n",
       "                                 id  \n",
       "0  000000014A02348E701552980349FF01  \n",
       "1  000000014A10EA183BF8594A0B2AB201  \n",
       "2  000000014A4FE5C33A929D4C26943601  \n",
       "3  000000014B7BB9957784A9BC0AC9F401  \n",
       "4  000000014C7749F896D82C2B01E8B801  "
      ]
     },
     "execution_count": 13,
     "metadata": {},
     "output_type": "execute_result"
    }
   ],
   "source": [
    "# title train\n",
    "title_train_df['id'] = title_train_df.index\n",
    "title_train_df.index = range(len(title_train_df))\n",
    "title_train_df.columns = ['titles', 'id']\n",
    "# title test\n",
    "title_test_df['id'] = title_test_df.index\n",
    "title_test_df.index = range(len(title_test_df))\n",
    "title_test_df.columns = ['titles', 'id']\n",
    "title_train_df.head()\n",
    "title_test_df.head()"
   ]
  },
  {
   "cell_type": "code",
   "execution_count": 14,
   "metadata": {
    "collapsed": false
   },
   "outputs": [
    {
     "data": {
      "text/html": [
       "<div>\n",
       "<table border=\"1\" class=\"dataframe\">\n",
       "  <thead>\n",
       "    <tr style=\"text-align: right;\">\n",
       "      <th></th>\n",
       "      <th>titles</th>\n",
       "      <th>id</th>\n",
       "      <th>urls</th>\n",
       "    </tr>\n",
       "  </thead>\n",
       "  <tbody>\n",
       "    <tr>\n",
       "      <th>0</th>\n",
       "      <td>[11-й гектар дом коммунизм на набережная недос...</td>\n",
       "      <td>000000014A02348E701552980349FF01</td>\n",
       "      <td>[1000bankov.ru, 1tv.ru, 4put.ru, argumenti.ru,...</td>\n",
       "    </tr>\n",
       "    <tr>\n",
       "      <th>1</th>\n",
       "      <td>[20-летний выглядеть девушка как королева ната...</td>\n",
       "      <td>000000014A10EA183BF8594A0B2AB201</td>\n",
       "      <td>[autorambler.ru, bilettorg.ru, dsol-druzhba.ru...</td>\n",
       "    </tr>\n",
       "    <tr>\n",
       "      <th>2</th>\n",
       "      <td>[медийный портал рамблер]</td>\n",
       "      <td>000000014A4FE5C33A929D4C26943601</td>\n",
       "      <td>[photosight.ru, rambler.ru]</td>\n",
       "    </tr>\n",
       "    <tr>\n",
       "      <th>3</th>\n",
       "      <td>[бесплатно код онлайн срочно статистика, или и...</td>\n",
       "      <td>000000014B7BB9957784A9BC0AC9F401</td>\n",
       "      <td>[base.consultant.ru, dogovor-obrazets.ru, fd.r...</td>\n",
       "    </tr>\n",
       "    <tr>\n",
       "      <th>4</th>\n",
       "      <td>[bank privat автокредитование банковский банко...</td>\n",
       "      <td>000000014C7749F896D82C2B01E8B801</td>\n",
       "      <td>[assessor.ru, audit-it.ru, base.garant.ru, com...</td>\n",
       "    </tr>\n",
       "  </tbody>\n",
       "</table>\n",
       "</div>"
      ],
      "text/plain": [
       "                                              titles  \\\n",
       "0  [11-й гектар дом коммунизм на набережная недос...   \n",
       "1  [20-летний выглядеть девушка как королева ната...   \n",
       "2                          [медийный портал рамблер]   \n",
       "3  [бесплатно код онлайн срочно статистика, или и...   \n",
       "4  [bank privat автокредитование банковский банко...   \n",
       "\n",
       "                                 id  \\\n",
       "0  000000014A02348E701552980349FF01   \n",
       "1  000000014A10EA183BF8594A0B2AB201   \n",
       "2  000000014A4FE5C33A929D4C26943601   \n",
       "3  000000014B7BB9957784A9BC0AC9F401   \n",
       "4  000000014C7749F896D82C2B01E8B801   \n",
       "\n",
       "                                                urls  \n",
       "0  [1000bankov.ru, 1tv.ru, 4put.ru, argumenti.ru,...  \n",
       "1  [autorambler.ru, bilettorg.ru, dsol-druzhba.ru...  \n",
       "2                        [photosight.ru, rambler.ru]  \n",
       "3  [base.consultant.ru, dogovor-obrazets.ru, fd.r...  \n",
       "4  [assessor.ru, audit-it.ru, base.garant.ru, com...  "
      ]
     },
     "execution_count": 14,
     "metadata": {},
     "output_type": "execute_result"
    }
   ],
   "source": [
    "train_df = title_train_df.merge(train_df,on='id')\n",
    "test_df = title_test_df.merge(urls_test_df,on='id')\n",
    "# train_df = train_df[['id', 'titles', 'urls', 'age']]\n",
    "train_df.head()\n",
    "test_df.head()"
   ]
  },
  {
   "cell_type": "markdown",
   "metadata": {},
   "source": [
    "## Снижение размерности"
   ]
  },
  {
   "cell_type": "code",
   "execution_count": 28,
   "metadata": {
    "collapsed": false
   },
   "outputs": [],
   "source": [
    "X = np.array(list(map(lambda x: x[1],zip(train_df.urls.values,train_df.titles.values))))\n",
    "X_test = np.array(list(map(lambda x: x[1],zip(test_df.urls.values,test_df.titles.values))))"
   ]
  },
  {
   "cell_type": "code",
   "execution_count": 31,
   "metadata": {
    "collapsed": false
   },
   "outputs": [],
   "source": [
    "y = train_df.age.values"
   ]
  },
  {
   "cell_type": "code",
   "execution_count": 32,
   "metadata": {
    "collapsed": false
   },
   "outputs": [],
   "source": [
    "Z = list(map(lambda x: list(map(lambda y: y.split(\" \"), x)), X)) # split internal phrases into words\n",
    "Z_test = list(map(lambda x: list(map(lambda y: y.split(\" \"), x)), X_test))"
   ]
  },
  {
   "cell_type": "code",
   "execution_count": 33,
   "metadata": {
    "collapsed": true
   },
   "outputs": [],
   "source": [
    "T = list(map(lambda l :[item for sublist in l for item in sublist], Z)) # flatten internal lists of lists\n",
    "T_test = list(map(lambda l :[item for sublist in l for item in sublist], Z_test))"
   ]
  },
  {
   "cell_type": "code",
   "execution_count": 34,
   "metadata": {
    "collapsed": false
   },
   "outputs": [],
   "source": [
    "Y = list(map(lambda x: TaggedDocument(words=x[1],tags=[x[0]]),enumerate(list(T)))) # create TaggedDocuments for doc2vec\n",
    "Y_test = list(map(lambda x: TaggedDocument(words=x[1],tags=[len(Y) + x[0]]),enumerate(list(T_test))))"
   ]
  },
  {
   "cell_type": "code",
   "execution_count": 36,
   "metadata": {
    "collapsed": false
   },
   "outputs": [],
   "source": [
    "doc2vec = Doc2Vec(Y + Y_test, size=1000, window=8, min_count=5, workers=4)"
   ]
  },
  {
   "cell_type": "code",
   "execution_count": 37,
   "metadata": {
    "collapsed": false
   },
   "outputs": [
    {
     "data": {
      "text/plain": [
       "(134045, 1000)"
      ]
     },
     "execution_count": 37,
     "metadata": {},
     "output_type": "execute_result"
    }
   ],
   "source": [
    "np.array(doc2vec.docvecs).shape"
   ]
  },
  {
   "cell_type": "code",
   "execution_count": null,
   "metadata": {
    "collapsed": true
   },
   "outputs": [],
   "source": []
  },
  {
   "cell_type": "code",
   "execution_count": 38,
   "metadata": {
    "collapsed": true
   },
   "outputs": [],
   "source": [
    "C = np.array(doc2vec.docvecs)[:len(Y)]\n",
    "C_test = np.array(doc2vec.docvecs)[len(Y):]"
   ]
  },
  {
   "cell_type": "code",
   "execution_count": 27,
   "metadata": {
    "collapsed": false
   },
   "outputs": [
    {
     "data": {
      "text/plain": [
       "array([ -4.02741646e-03,   5.17490553e-04,  -4.23386646e-03,\n",
       "         3.95179540e-03,  -6.67527830e-03,  -1.09198103e-02,\n",
       "        -1.82472472e-03,   3.94937210e-03,   7.88062625e-03,\n",
       "         2.23867915e-04,   3.98492534e-03,   6.13822922e-05,\n",
       "        -6.72318321e-03,   4.96734073e-03,  -3.84034030e-03,\n",
       "         2.87004816e-03,  -1.71870121e-03,   5.79001894e-03,\n",
       "         3.97522235e-03,   4.43495531e-03,  -5.50824311e-03,\n",
       "        -2.68577086e-03,  -3.39229917e-03,   6.41911116e-04,\n",
       "        -2.31814804e-03,   2.00447175e-04,   4.32373025e-03,\n",
       "        -6.01968379e-04,   2.32529570e-03,   1.14866020e-03,\n",
       "        -4.19715373e-03,   2.72591889e-04,   1.95418997e-03,\n",
       "         7.05786375e-03,  -2.11957330e-03,   7.19742430e-03,\n",
       "         1.27897691e-03,   3.30770435e-03,  -3.98037676e-03,\n",
       "        -4.48795792e-04,  -1.76177057e-03,  -1.51950796e-03,\n",
       "        -1.81869499e-03,   5.97525109e-03,  -1.91085506e-03,\n",
       "         4.10973607e-03,   4.42632334e-03,   1.55657617e-04,\n",
       "        -3.11657554e-03,  -3.38978530e-03,  -2.47008656e-03,\n",
       "        -3.06667062e-03,   3.57863400e-03,   5.41565241e-03,\n",
       "         2.21923040e-03,   3.59438034e-03,   5.23003377e-03,\n",
       "         6.35703001e-03,   6.75300742e-03,   4.53466270e-03,\n",
       "        -1.35843689e-03,   1.32934249e-04,   3.01777734e-03,\n",
       "         5.44512551e-03,   7.57820718e-03,  -1.25978771e-03,\n",
       "         2.87754694e-04,   6.23025838e-03,   2.15644576e-03,\n",
       "        -2.36173067e-03,  -1.20524492e-03,  -3.39902844e-03,\n",
       "         2.88930722e-03,   1.87860348e-03,   2.28417222e-04,\n",
       "         6.80119032e-04,   1.49246585e-03,   5.47742020e-05,\n",
       "        -2.30609486e-03,   6.52615493e-03,  -7.95577094e-03,\n",
       "        -4.24928498e-04,   3.41770682e-03,   9.04066837e-06,\n",
       "        -3.20549170e-03,  -3.38108581e-03,   9.71622823e-04,\n",
       "         8.47109768e-04,  -6.30678143e-03,  -4.64214856e-04,\n",
       "         9.15592164e-03,  -1.17125793e-03,   3.72321345e-03,\n",
       "         4.06915927e-03,   1.73116592e-03,   3.38813383e-03,\n",
       "         4.17432515e-03,  -1.13773765e-03,   1.61258061e-03,\n",
       "        -5.36592864e-03,  -7.84924836e-04,  -7.69389374e-03,\n",
       "        -7.58730248e-03,   7.46659795e-03,  -2.17452808e-03,\n",
       "         1.58571964e-03,   4.55784518e-03,   4.76485910e-03,\n",
       "        -6.26057619e-04,  -1.00378022e-02,  -7.43902056e-03,\n",
       "         2.42416444e-03,   2.13450199e-04,   2.04205373e-03,\n",
       "        -9.83659178e-04,   1.48942159e-03,   7.80073041e-03,\n",
       "        -2.10646976e-05,   2.56458297e-03,   4.90563177e-03,\n",
       "        -3.84787854e-04,   2.40299827e-03,   1.53781578e-03,\n",
       "         1.27861649e-03,   4.64275654e-05,  -2.92188488e-04,\n",
       "         6.51928713e-05,   4.74325614e-04,  -2.69034598e-03,\n",
       "         8.06456519e-05,   1.89382979e-03,   5.11531392e-03,\n",
       "         1.01724861e-03,  -3.96533543e-03,  -5.16567146e-03,\n",
       "         2.84193736e-03,  -3.36087705e-03,  -2.93402420e-03,\n",
       "         8.23215058e-04,  -1.56648597e-03,   6.03969325e-04,\n",
       "        -7.25617807e-04,  -2.69943569e-03,  -7.96003151e-05,\n",
       "        -5.16214932e-04,   7.78016925e-04,  -7.74173124e-04,\n",
       "         1.85770832e-03,  -5.33028413e-03,   5.19989105e-03,\n",
       "        -8.42458539e-05,   2.59474386e-03,   2.47709779e-03,\n",
       "        -2.00160220e-03,  -1.69086747e-03,   5.99497836e-03,\n",
       "        -1.19714451e-03,  -2.31503695e-03,  -3.21170269e-03,\n",
       "         2.49300012e-03,  -4.66818362e-03,  -1.30178902e-04,\n",
       "        -6.26102672e-04,   2.50101963e-04,   1.16594997e-03,\n",
       "        -1.71514542e-03,   2.37565883e-03,  -7.25848554e-03,\n",
       "        -1.42628339e-03,  -2.65130727e-03,   2.71267560e-03,\n",
       "        -2.39122519e-03,  -3.35157820e-05,  -2.08384288e-03,\n",
       "        -8.85783520e-04,  -1.34065270e-03,  -2.41304660e-04,\n",
       "        -1.97189581e-03,   8.40057270e-04,   3.86170158e-03,\n",
       "        -1.94508582e-03,  -3.64418211e-03,  -2.18674820e-03,\n",
       "        -3.35678761e-03,   2.09796126e-04,  -2.39211135e-03,\n",
       "         1.23879698e-03,  -6.70732523e-04,   2.81010085e-04,\n",
       "        -1.11480535e-03,  -2.77872942e-03,  -4.09227284e-03,\n",
       "         2.15328624e-03,   2.83881975e-03,   8.96671409e-05,\n",
       "         1.26890183e-04,  -8.63714051e-03,   7.28428923e-03,\n",
       "        -3.08087422e-03,   2.23421049e-03,  -4.67312755e-04,\n",
       "         1.68886886e-03,  -1.07914896e-03,  -2.31266487e-03,\n",
       "         1.09343941e-03,   1.35701528e-04,   1.93765655e-03,\n",
       "         4.23248392e-03,   3.11272871e-03,  -3.06641962e-03,\n",
       "        -2.86218943e-03,  -1.33567874e-03,   3.96451540e-03,\n",
       "         7.44158984e-04,   6.60362979e-03,  -6.75431802e-04,\n",
       "         5.23622893e-03,  -2.81286030e-03,   2.10949359e-03,\n",
       "        -2.71404628e-04,   1.04413863e-04,   1.53170113e-04,\n",
       "        -9.37647477e-04,  -9.32242488e-04,  -6.30425941e-03,\n",
       "        -3.19110556e-03,   8.25005176e-04,  -5.09937340e-03,\n",
       "        -9.08307848e-05,   4.54210071e-03,  -1.22247089e-03,\n",
       "         2.52451864e-03,   3.18138488e-03,   3.11635877e-03,\n",
       "        -5.79354400e-03,  -2.86207092e-03,   2.32670060e-03,\n",
       "         1.11811794e-03,  -2.06926744e-03,  -2.43270490e-03,\n",
       "        -7.56386202e-04,  -8.69994238e-03,  -1.29076024e-03,\n",
       "        -1.42449234e-03,  -2.19671708e-03,  -3.17759439e-03,\n",
       "        -2.17348058e-03,  -1.02722051e-03,  -4.41604992e-04,\n",
       "         1.99341471e-03,  -2.79247155e-03,  -6.75502932e-03,\n",
       "         1.76793034e-03,  -5.80336154e-03,   3.67682194e-03,\n",
       "         1.83045387e-03,  -1.51235273e-03,  -2.23424449e-03,\n",
       "        -7.52952136e-03,  -6.65231957e-04,  -6.06824551e-03,\n",
       "        -4.96818218e-03,   5.50913531e-03,   8.56920844e-04,\n",
       "         2.46831588e-03,   5.00045111e-03,   3.31184245e-03,\n",
       "         6.03206921e-03,   5.31421509e-04,  -3.11002345e-03,\n",
       "         4.34531225e-03,   1.48939854e-03,  -9.74255439e-04,\n",
       "         1.08888280e-03,   8.63378926e-04,  -2.15695193e-03,\n",
       "         5.77184884e-03,  -5.33381337e-03,   3.26901139e-03,\n",
       "        -9.66366730e-04,   1.56008359e-03,   4.05396055e-03,\n",
       "        -5.26926480e-04,   4.29019844e-03,   5.77140134e-04,\n",
       "         4.55223862e-03,  -2.65358877e-03,   3.95099493e-03,\n",
       "         1.25983870e-03,   8.50814488e-03,  -2.48773932e-03,\n",
       "        -3.13951448e-03,   5.08182822e-03,  -1.51445484e-03,\n",
       "        -9.26263910e-03,  -9.04793851e-03,  -9.06546542e-04,\n",
       "         5.61750075e-03,  -2.81450571e-03,  -1.90026977e-03,\n",
       "         4.85792581e-04,  -2.73109972e-03,   9.05929075e-04,\n",
       "        -5.82856155e-05,   5.00345323e-03,  -1.59372482e-03,\n",
       "         4.30567283e-03,   5.96533436e-03,  -1.37952459e-03,\n",
       "         6.16677571e-04,   1.55137980e-03,   2.02260469e-03,\n",
       "        -7.19929393e-03,   3.87319201e-03,   1.74434471e-03,\n",
       "        -4.59148287e-05,   2.31900299e-03,   3.45820840e-03,\n",
       "        -1.24562229e-03,   5.88206435e-03,  -1.56376348e-03,\n",
       "         2.43858260e-04,  -5.45783187e-05,   7.85291102e-03,\n",
       "         4.16975049e-03,   1.71103433e-03,  -1.60988930e-04,\n",
       "        -2.14232528e-03,  -4.85150376e-03,  -2.06898409e-03,\n",
       "         7.45354267e-03,  -2.58723996e-03,   1.66962855e-04,\n",
       "        -5.93541143e-03,   5.97840315e-03,  -6.09019259e-03,\n",
       "        -4.63200005e-04,   1.67438760e-03,   2.68297340e-03,\n",
       "         3.71902855e-03,  -5.35371760e-03,   4.08629188e-04,\n",
       "        -1.79408339e-03,   1.24047056e-03,  -5.39392326e-03,\n",
       "        -2.61056749e-03,   1.73582957e-04,   2.34353472e-03,\n",
       "        -5.31514222e-03,   3.19793192e-03,   2.79030297e-03,\n",
       "        -3.23096698e-04,   6.30720472e-03,   2.83486699e-03,\n",
       "        -2.40657269e-03,   8.58618785e-03,   8.98455619e-04,\n",
       "        -3.16693611e-03,   3.52147105e-03,   1.10085274e-03,\n",
       "         1.02129008e-03,  -1.19388266e-03,  -3.57673573e-03,\n",
       "        -1.08564418e-05,   4.23692167e-03,  -3.44554137e-04,\n",
       "         4.94914828e-03,   1.01678614e-02,  -5.96610503e-03,\n",
       "        -3.96979507e-03,  -1.37937255e-03,  -5.01633913e-04,\n",
       "        -5.60668763e-03,   9.55326599e-04,  -2.75545940e-03,\n",
       "        -5.18131536e-03,  -5.22765564e-03,  -8.50221666e-04,\n",
       "        -2.62600160e-03,   2.35664425e-03,   3.15365568e-03,\n",
       "         6.75140554e-03,   3.96316499e-03,  -1.90576888e-03,\n",
       "        -4.20374656e-03,   1.03593525e-02,  -2.73282942e-03,\n",
       "         5.03771473e-03,  -2.44729384e-03,  -1.97404064e-03,\n",
       "         4.46629198e-03,  -4.18242998e-04,  -6.83764881e-03,\n",
       "        -3.91835114e-03,   8.18938017e-03,  -1.02133648e-02,\n",
       "         1.16636453e-03,  -3.01662920e-04,  -9.22544044e-04,\n",
       "         5.21338265e-03,   8.20501649e-04,   3.08715831e-03,\n",
       "         3.66633735e-03,   3.13820876e-03,   2.89023318e-03,\n",
       "        -3.55199794e-03,  -4.22121352e-03,   9.47296247e-03,\n",
       "        -4.43726173e-03,  -2.87722214e-03,  -1.63278903e-03,\n",
       "         5.65758627e-03,  -1.26273930e-03,  -4.47993260e-03,\n",
       "        -2.10946309e-03,  -7.07679521e-03,  -1.29998371e-03,\n",
       "        -4.15753946e-03,   1.85220130e-03,   8.45101010e-03,\n",
       "        -1.38823979e-03,  -1.35504920e-03,  -2.26296973e-03,\n",
       "        -2.16167630e-03,   4.22636885e-03,  -2.21163873e-03,\n",
       "         2.84024468e-03,   1.66095700e-03,   1.80304144e-03,\n",
       "        -6.27714384e-04,  -2.74501205e-03,   7.43045285e-03,\n",
       "        -2.40037404e-03,  -3.42002278e-03,   4.61727381e-03,\n",
       "         7.91885657e-04,  -6.33554906e-03,  -4.66671120e-03,\n",
       "        -2.77811871e-03,   1.83235412e-03,  -1.85742357e-03,\n",
       "        -4.36484534e-03,   2.22715922e-03,   4.79650265e-03,\n",
       "         1.76758191e-03,  -8.54781084e-03,  -6.86744042e-03,\n",
       "         1.76449073e-03,  -2.25063460e-03,  -1.38659393e-02,\n",
       "         5.04830247e-03,   1.88617921e-03,  -8.51486996e-03,\n",
       "         1.54173293e-04,  -1.84264942e-03,  -1.16107368e-03,\n",
       "        -1.85211969e-03,   8.82629538e-05,  -3.14849499e-03,\n",
       "        -1.57566543e-03,  -5.73090697e-03,   2.73002894e-03,\n",
       "        -2.22616992e-03,   1.72550534e-03,  -1.33817969e-02,\n",
       "         1.61357794e-03,   1.20732511e-04,   2.31093424e-03,\n",
       "        -2.84460071e-03,   1.65183330e-03,  -4.42692894e-04,\n",
       "        -3.49535752e-04,  -1.53864035e-03,   5.24726056e-04,\n",
       "         3.46335117e-04,   2.12727301e-03,  -8.85021291e-04,\n",
       "         1.65757525e-03,   7.05873035e-03,   1.33510027e-03,\n",
       "        -1.02584660e-02,   1.83133921e-03,  -2.28603487e-03,\n",
       "        -1.14039294e-02,  -5.58330910e-03,  -1.09036535e-03,\n",
       "        -2.20928784e-03,  -3.09940078e-03,   4.54348465e-03,\n",
       "         4.44652187e-03,  -7.44121568e-03,   1.78739626e-03,\n",
       "        -5.35952160e-03,  -2.32981564e-03,  -6.60609221e-03,\n",
       "         8.65031034e-04,   2.70232698e-03,   5.53921191e-03,\n",
       "         8.68223887e-03,  -6.92403759e-04,   5.60610555e-03,\n",
       "         5.20740985e-04,  -5.38704591e-03,  -1.48269336e-03,\n",
       "         2.38437249e-04,   1.73655525e-03,  -3.25806951e-03,\n",
       "         1.28936174e-03,  -5.63176395e-03,   2.11206870e-03,\n",
       "        -7.28418538e-03,   8.65174271e-03,  -3.72352195e-03,\n",
       "        -1.72428053e-03,   4.69885347e-03,  -9.60676558e-03,\n",
       "        -3.31485621e-03,  -2.51789903e-03,  -5.09534124e-03,\n",
       "        -2.04851897e-03,   5.98815037e-04,  -3.77619523e-03,\n",
       "         4.14839480e-03,  -7.38618954e-04,  -2.75844941e-03,\n",
       "        -1.78180821e-03,   5.17908856e-03,   2.17905082e-03,\n",
       "        -3.56377638e-03,  -7.07234163e-03,  -5.43532381e-03,\n",
       "        -4.94588749e-04,  -6.68477616e-04,  -2.50564283e-03,\n",
       "         1.91888749e-03,   6.56246993e-05,  -3.32754105e-03,\n",
       "        -5.83595247e-05,  -7.24648498e-03,   1.12976914e-03,\n",
       "         3.41319782e-03,  -1.73501438e-03,  -1.80544110e-03,\n",
       "         7.91271043e-04,  -4.91230190e-03,   1.31454424e-03,\n",
       "        -2.61134189e-03,   2.63211504e-03,  -2.08161306e-03,\n",
       "         5.00074774e-03,   1.84225745e-03,   1.10575149e-03,\n",
       "        -5.12727117e-03,   2.46920320e-03,  -1.53990788e-03,\n",
       "        -2.77483300e-03,   3.94607009e-03,  -7.82861374e-04,\n",
       "         3.58433439e-03,  -3.47405812e-03,   2.93246051e-03,\n",
       "         7.27490289e-04,  -1.86352525e-04,  -4.37204697e-04,\n",
       "         4.48913872e-03,  -1.30740541e-03,  -2.49828631e-03,\n",
       "        -2.28446675e-04,  -8.59815441e-03,   2.05958472e-03,\n",
       "         1.15848649e-02,  -4.54853434e-05,   1.04470993e-03,\n",
       "        -2.19433988e-03,  -2.45294441e-03,  -2.01122300e-03,\n",
       "        -1.45677084e-04,  -3.14013567e-03,   2.12491350e-03,\n",
       "         1.12208119e-03,  -4.74910578e-03,  -6.22504298e-03,\n",
       "        -5.35686687e-03,   5.18878642e-03,   4.24702768e-04,\n",
       "        -2.78675230e-03,  -6.74390513e-03,   3.50054586e-04,\n",
       "        -3.67736071e-03,  -1.27204531e-03,   3.13632539e-03,\n",
       "        -4.71004890e-03,   7.71068735e-03,  -6.53076032e-03,\n",
       "        -7.23268278e-03,   4.54114936e-03,  -6.79186080e-03,\n",
       "        -5.02043229e-04,   1.76400458e-03,   4.39495314e-03,\n",
       "        -4.96954052e-03,   5.11356280e-04,   2.77671171e-03,\n",
       "         4.82264906e-03,   5.25192451e-03,   6.14047516e-04,\n",
       "         1.63525401e-03,   3.09683266e-03,   3.09382332e-03,\n",
       "        -5.71611617e-03,  -7.85038341e-03,  -5.22870431e-03,\n",
       "        -6.46597007e-03,  -2.73085502e-03,  -7.75290513e-03,\n",
       "        -2.98416265e-03,   1.30484230e-03,   2.76768557e-03,\n",
       "         4.39088047e-03,   3.86677543e-03,  -6.73509028e-04,\n",
       "        -6.63924357e-03,   3.98145244e-03,   9.60665476e-03,\n",
       "         2.39292160e-03,   5.14384359e-03,   5.57804992e-03,\n",
       "         3.77184781e-03,  -7.98356894e-04,  -4.69405390e-03,\n",
       "         1.07945129e-02,  -3.14541627e-04,   1.18697260e-03,\n",
       "         2.70255026e-04,  -4.18921979e-03,   6.06152462e-04,\n",
       "         1.74919536e-04,  -6.71651028e-03,   2.99766776e-04,\n",
       "         5.33902319e-04,  -4.57933638e-03,   9.10390081e-05,\n",
       "         2.98751378e-03,  -4.13389818e-04,   4.59407503e-03,\n",
       "         4.52440465e-03,  -4.79954731e-04,   2.78119324e-03,\n",
       "        -1.78468530e-03,  -2.32581096e-03,   3.78474407e-03,\n",
       "         3.10218264e-03,   1.49306806e-03,   2.94494280e-03,\n",
       "        -3.11722932e-03,  -4.17500641e-03,   3.80542548e-03,\n",
       "         2.65496201e-03,   5.35518164e-04,  -1.58182951e-03,\n",
       "        -5.38622844e-04,  -3.77995847e-03,   1.93105108e-04,\n",
       "         1.20606762e-03,   6.01656968e-03,   4.55145724e-04,\n",
       "         2.44738068e-03,   4.02235426e-03,  -6.73396792e-03,\n",
       "         1.39101536e-03,   2.58581806e-03,   4.38018143e-03,\n",
       "         2.74865830e-04,  -5.75336628e-03,  -6.92164991e-03,\n",
       "        -4.71685594e-03,  -1.08639535e-03,  -1.01693231e-03,\n",
       "        -4.93107829e-03,   2.31999264e-04,   2.53419043e-03,\n",
       "         8.91066249e-03,  -5.34340693e-03,   1.34585320e-03,\n",
       "         2.60940474e-03,   4.02383925e-03,  -2.74083274e-03,\n",
       "        -7.34646618e-03,   5.53307775e-03,   6.99238759e-03,\n",
       "        -2.09259498e-03,   3.42458370e-03,   2.41983146e-03,\n",
       "         1.90314266e-03,   5.87112154e-04,  -4.85354196e-03,\n",
       "        -2.51340610e-03,   3.42426501e-04,   3.35940218e-04,\n",
       "        -4.09042183e-03,  -8.08698765e-04,   3.93291237e-03,\n",
       "        -2.84045539e-03,  -1.21311739e-03,   5.28671895e-04,\n",
       "         6.71211164e-04,   5.94467809e-03,  -6.32545305e-03,\n",
       "        -8.46417795e-04,   8.31759907e-03,   1.77484076e-03,\n",
       "         1.79575547e-03,  -4.25185822e-03,   3.64653766e-03,\n",
       "        -1.27695804e-03,  -4.34120838e-03,  -3.53412423e-03,\n",
       "         1.20754109e-03,   1.53065752e-03,   5.66780521e-03,\n",
       "        -5.43108617e-04,   1.11905421e-04,   3.18005797e-03,\n",
       "         1.05275842e-03,  -1.46323559e-03,   1.29723623e-02,\n",
       "        -5.36934123e-04,  -9.10044531e-04,   8.03316571e-03,\n",
       "        -1.45446189e-04,  -5.84953814e-05,   1.63725810e-03,\n",
       "         6.41452614e-04,   3.74946720e-03,  -4.34209971e-04,\n",
       "        -1.74379456e-04,   2.08850182e-03,  -5.07030729e-03,\n",
       "         5.69720427e-03,  -8.53068079e-04,   3.63479223e-04,\n",
       "        -3.15678219e-04,  -4.34918911e-06,  -3.33425961e-03,\n",
       "         5.39553631e-03,   5.32734615e-04,  -5.89830056e-03,\n",
       "         3.64586990e-03,  -5.37822582e-03,  -6.17557205e-03,\n",
       "         3.98787297e-03,  -9.40138998e-04,  -2.11428106e-03,\n",
       "        -2.99422391e-04,  -2.61571491e-03,   1.84192369e-03,\n",
       "         4.61154617e-03,   3.93473217e-03,   4.17585857e-03,\n",
       "        -2.34370423e-03,   1.51749304e-03,  -6.37388462e-03,\n",
       "        -5.06906258e-03,  -1.24418014e-03,  -4.60817013e-03,\n",
       "        -6.08609931e-04,   5.42332930e-03,  -3.76888877e-03,\n",
       "        -7.14141363e-03,   3.04090092e-03,   6.58171345e-03,\n",
       "        -9.62313730e-03,   4.63858387e-03,   3.09682009e-03,\n",
       "         5.49582881e-04,   2.25260993e-03,  -4.07892541e-04,\n",
       "         5.39862365e-03,   2.78998073e-03,   4.11590235e-03,\n",
       "        -6.32655527e-03,   1.44849066e-04,   1.49623945e-03,\n",
       "        -3.65719665e-04,  -1.27303042e-03,  -6.85266219e-03,\n",
       "         2.40485789e-03,   9.37913312e-04,  -2.22788891e-04,\n",
       "         2.98116147e-03,  -8.38668610e-04,  -1.58673548e-03,\n",
       "         1.01385626e-03,  -8.55934399e-04,  -1.81674247e-03,\n",
       "         3.72946565e-03,  -1.45573844e-03,   7.63684395e-04,\n",
       "        -6.25111861e-03,   1.89420278e-03,   5.63662965e-04,\n",
       "         7.99188949e-03,  -3.43995728e-03,  -1.23737706e-03,\n",
       "        -3.13887652e-03,  -1.10978168e-03,  -2.26441189e-03,\n",
       "        -1.78455561e-03,   1.97428977e-03,   6.37155259e-03,\n",
       "        -5.36394538e-03,   3.84253939e-03,  -1.30694942e-03,\n",
       "         3.80491925e-04,  -2.06135958e-03,  -1.05492945e-04,\n",
       "         3.23831366e-04,  -6.99543627e-04,  -9.31952894e-03,\n",
       "        -6.89280743e-04,   3.99572216e-03,   1.90829556e-03,\n",
       "         2.14943197e-03,   4.42462089e-03,  -1.29253464e-03,\n",
       "         1.57188531e-03,  -1.70424697e-04,  -1.47747505e-03,\n",
       "         3.42936348e-03,  -1.69859466e-03,   2.94305850e-04,\n",
       "        -2.05662823e-03,   2.53540743e-03,  -1.27769003e-04,\n",
       "        -1.96710491e-04,   2.80358712e-03,  -5.42009366e-04,\n",
       "         1.08523597e-03,  -3.10323248e-03,   3.27888690e-03,\n",
       "        -3.39722261e-03,  -6.08416274e-04,  -3.46737308e-03,\n",
       "         5.45965275e-03,  -3.63663072e-03,   5.19963820e-03,\n",
       "        -5.87562099e-04,   1.75955007e-03,   3.27023258e-03,\n",
       "         3.81410122e-03,   1.28667557e-03,   9.46899876e-04,\n",
       "         9.76047129e-04,  -1.65122864e-03,  -3.33740283e-03,\n",
       "         1.91998959e-03,  -2.31655920e-03,   2.78993300e-03,\n",
       "        -7.81645824e-04,  -5.38559398e-03,  -5.96564636e-03,\n",
       "         5.37273288e-03,  -2.54053366e-03,  -2.92793522e-03,\n",
       "         1.43477495e-03,  -1.48337582e-04,  -1.65998307e-03,\n",
       "        -2.70292861e-04,  -2.45316233e-03,   5.54687576e-03,\n",
       "        -3.36990855e-03,   3.77358706e-03,  -2.25290423e-03,\n",
       "         3.95235745e-03,   1.51996908e-03,   4.62072948e-03,\n",
       "         1.80044924e-04,  -5.66945702e-04,  -1.48159009e-03,\n",
       "         2.98818271e-03,  -2.47015478e-03,   8.64682021e-04,\n",
       "        -9.41918348e-04,  -3.76366591e-03,  -1.69258728e-03,\n",
       "         6.43361185e-04,  -3.05771106e-03,  -2.15650856e-04,\n",
       "         5.01936069e-03,  -1.82588724e-03,   4.45084879e-04,\n",
       "        -1.58145325e-03,   2.30526505e-03,   2.87350849e-06,\n",
       "         1.75478763e-03,   1.78999163e-03,   1.89205661e-04,\n",
       "         8.11247714e-03,  -1.37472060e-03,  -2.22727400e-03,\n",
       "        -1.08424283e-03,   1.03565620e-03,   9.57771263e-04,\n",
       "        -2.37263949e-03,   2.89314473e-03,  -2.43139686e-03,\n",
       "         4.14054608e-03,   2.41121091e-03,  -1.63418925e-04,\n",
       "        -1.78924645e-03,   2.14805640e-03,   5.14579425e-03,\n",
       "         8.40942492e-04,  -1.81427679e-03,   1.56469224e-03,\n",
       "        -5.93322050e-03,  -7.87630863e-03,  -3.79066379e-03,\n",
       "        -4.33815736e-03,   5.24492096e-03,   7.98040815e-03,\n",
       "        -9.75689036e-04,   4.22961020e-04,   5.53681888e-03,\n",
       "        -1.06935408e-02,   1.17505761e-03,   1.28292909e-03,\n",
       "         5.64487011e-04,  -2.94937752e-04,  -1.87997473e-03,\n",
       "         1.43538741e-03,  -4.94433613e-03,   1.17823575e-03,\n",
       "        -7.78703671e-03,  -3.05235013e-03,   1.75475969e-03,\n",
       "        -1.98999629e-03,  -2.13078689e-04,  -4.44041856e-04,\n",
       "        -2.44125421e-03,   3.74096772e-03,   6.48580864e-03,\n",
       "        -1.14919455e-03,   2.22339784e-03,   3.83739639e-03,\n",
       "        -1.31423958e-03,  -2.74596456e-03,   5.22128027e-03,\n",
       "        -6.75599789e-03,   3.29589355e-03,   3.13520897e-04,\n",
       "         7.65927252e-05,   9.77272051e-04,  -7.15684961e-04,\n",
       "         1.94672833e-03,   6.91853790e-03,   4.17493284e-03,\n",
       "         5.68371359e-03,   2.39552697e-03,  -1.52756087e-03,\n",
       "        -1.39792450e-03,  -5.36332605e-04,   1.88002407e-04,\n",
       "         2.05140770e-03,  -8.82428896e-04,  -2.74905725e-03,\n",
       "         5.71653154e-03,   4.57276776e-03,   4.06934414e-03,\n",
       "        -3.09559144e-03,  -1.49294094e-04,   1.25719956e-03,\n",
       "        -5.52708330e-03,   6.14093570e-03,   1.89232861e-03,\n",
       "         5.14316745e-03,   4.28399583e-03,  -1.19594403e-03,\n",
       "         3.76780331e-03,  -3.00871208e-03,   4.58708126e-03,\n",
       "        -1.96746876e-03,   2.36528507e-03,   2.68046441e-03,\n",
       "        -1.79662451e-03,  -3.77655488e-05,  -4.58718569e-05,\n",
       "        -1.81273965e-03,  -3.16972611e-03,  -7.00792370e-05,\n",
       "         3.93817713e-03,  -2.84056249e-03,   2.48874165e-03,\n",
       "        -1.35909650e-04,   1.68024655e-03,  -1.02113727e-02,\n",
       "         1.78220053e-03,   5.16576553e-03,  -6.88427268e-03,\n",
       "        -1.39651020e-04], dtype=float32)"
      ]
     },
     "execution_count": 27,
     "metadata": {},
     "output_type": "execute_result"
    }
   ],
   "source": [
    "C[0]"
   ]
  },
  {
   "cell_type": "markdown",
   "metadata": {},
   "source": [
    "## Обучение модели"
   ]
  },
  {
   "cell_type": "code",
   "execution_count": 26,
   "metadata": {
    "collapsed": false
   },
   "outputs": [
    {
     "data": {
      "text/plain": [
       "array([ 164.4977322 ,  163.2250262 ,  147.03983202])"
      ]
     },
     "execution_count": 26,
     "metadata": {},
     "output_type": "execute_result"
    }
   ],
   "source": [
    "reg = LinearRegression()\n",
    "- cross_val_score(reg, C, y, scoring='mean_squared_error')"
   ]
  },
  {
   "cell_type": "markdown",
   "metadata": {},
   "source": [
    "## Отправка Решения"
   ]
  },
  {
   "cell_type": "code",
   "execution_count": 24,
   "metadata": {
    "collapsed": false
   },
   "outputs": [
    {
     "data": {
      "text/plain": [
       "LinearRegression(copy_X=True, fit_intercept=True, n_jobs=1, normalize=False)"
      ]
     },
     "execution_count": 24,
     "metadata": {},
     "output_type": "execute_result"
    }
   ],
   "source": [
    "reg = LinearRegression()\n",
    "reg.fit(C, y)"
   ]
  },
  {
   "cell_type": "code",
   "execution_count": 93,
   "metadata": {
    "collapsed": false
   },
   "outputs": [],
   "source": [
    "urls_test_df = pd.read_csv('kaggle_data/url_domain_test', header=None, delimiter='\\t')\n",
    "urls_test_df.columns = ['id', 'url', 'count']\n",
    "urls_test_df = urls_test_df[['id', 'url']]"
   ]
  },
  {
   "cell_type": "code",
   "execution_count": 94,
   "metadata": {
    "collapsed": true
   },
   "outputs": [],
   "source": [
    "urls_test_df = pd.DataFrame(urls_test_df.groupby('id')['url'].apply(lambda x: x.tolist()))\n",
    "urls_test_df['id'] = urls_test_df.index\n",
    "urls_test_df.index = range(len(urls_test_df))\n",
    "urls_test_df.columns = ['urls', 'id']"
   ]
  },
  {
   "cell_type": "code",
   "execution_count": 95,
   "metadata": {
    "collapsed": false
   },
   "outputs": [
    {
     "data": {
      "text/html": [
       "<div>\n",
       "<table border=\"1\" class=\"dataframe\">\n",
       "  <thead>\n",
       "    <tr style=\"text-align: right;\">\n",
       "      <th></th>\n",
       "      <th>urls</th>\n",
       "      <th>id</th>\n",
       "    </tr>\n",
       "  </thead>\n",
       "  <tbody>\n",
       "    <tr>\n",
       "      <th>0</th>\n",
       "      <td>[1000bankov.ru, 1tv.ru, 4put.ru, argumenti.ru,...</td>\n",
       "      <td>000000014A02348E701552980349FF01</td>\n",
       "    </tr>\n",
       "    <tr>\n",
       "      <th>1</th>\n",
       "      <td>[autorambler.ru, bilettorg.ru, dsol-druzhba.ru...</td>\n",
       "      <td>000000014A10EA183BF8594A0B2AB201</td>\n",
       "    </tr>\n",
       "    <tr>\n",
       "      <th>2</th>\n",
       "      <td>[photosight.ru, rambler.ru]</td>\n",
       "      <td>000000014A4FE5C33A929D4C26943601</td>\n",
       "    </tr>\n",
       "    <tr>\n",
       "      <th>3</th>\n",
       "      <td>[base.consultant.ru, dogovor-obrazets.ru, fd.r...</td>\n",
       "      <td>000000014B7BB9957784A9BC0AC9F401</td>\n",
       "    </tr>\n",
       "    <tr>\n",
       "      <th>4</th>\n",
       "      <td>[assessor.ru, audit-it.ru, base.garant.ru, com...</td>\n",
       "      <td>000000014C7749F896D82C2B01E8B801</td>\n",
       "    </tr>\n",
       "  </tbody>\n",
       "</table>\n",
       "</div>"
      ],
      "text/plain": [
       "                                                urls  \\\n",
       "0  [1000bankov.ru, 1tv.ru, 4put.ru, argumenti.ru,...   \n",
       "1  [autorambler.ru, bilettorg.ru, dsol-druzhba.ru...   \n",
       "2                        [photosight.ru, rambler.ru]   \n",
       "3  [base.consultant.ru, dogovor-obrazets.ru, fd.r...   \n",
       "4  [assessor.ru, audit-it.ru, base.garant.ru, com...   \n",
       "\n",
       "                                 id  \n",
       "0  000000014A02348E701552980349FF01  \n",
       "1  000000014A10EA183BF8594A0B2AB201  \n",
       "2  000000014A4FE5C33A929D4C26943601  \n",
       "3  000000014B7BB9957784A9BC0AC9F401  \n",
       "4  000000014C7749F896D82C2B01E8B801  "
      ]
     },
     "execution_count": 95,
     "metadata": {},
     "output_type": "execute_result"
    }
   ],
   "source": [
    "urls_test_df.head()"
   ]
  },
  {
   "cell_type": "code",
   "execution_count": null,
   "metadata": {
    "collapsed": true
   },
   "outputs": [],
   "source": [
    "titles_test_df = "
   ]
  },
  {
   "cell_type": "code",
   "execution_count": 18,
   "metadata": {
    "collapsed": false
   },
   "outputs": [],
   "source": [
    "y_pred = reg.predict(X)"
   ]
  },
  {
   "cell_type": "code",
   "execution_count": 19,
   "metadata": {
    "collapsed": false
   },
   "outputs": [
    {
     "data": {
      "text/plain": [
       "array([ 42.68803957,  39.76833715,  38.71313275, ...,  35.32366851,\n",
       "        37.30954375,  49.12761871])"
      ]
     },
     "execution_count": 19,
     "metadata": {},
     "output_type": "execute_result"
    }
   ],
   "source": [
    "y_pred"
   ]
  },
  {
   "cell_type": "code",
   "execution_count": 20,
   "metadata": {
    "collapsed": false
   },
   "outputs": [],
   "source": [
    "urls_test_df['age'] = y_pred"
   ]
  },
  {
   "cell_type": "code",
   "execution_count": 21,
   "metadata": {
    "collapsed": false
   },
   "outputs": [],
   "source": [
    "urls_test_df = urls_test_df[['id', 'age']]\n",
    "urls_test_df.columns = ['Id', 'age']"
   ]
  },
  {
   "cell_type": "code",
   "execution_count": 22,
   "metadata": {
    "collapsed": false
   },
   "outputs": [
    {
     "data": {
      "text/html": [
       "<div>\n",
       "<table border=\"1\" class=\"dataframe\">\n",
       "  <thead>\n",
       "    <tr style=\"text-align: right;\">\n",
       "      <th></th>\n",
       "      <th>Id</th>\n",
       "      <th>age</th>\n",
       "    </tr>\n",
       "  </thead>\n",
       "  <tbody>\n",
       "    <tr>\n",
       "      <th>0</th>\n",
       "      <td>000000014A02348E701552980349FF01</td>\n",
       "      <td>42.688040</td>\n",
       "    </tr>\n",
       "    <tr>\n",
       "      <th>1</th>\n",
       "      <td>000000014A10EA183BF8594A0B2AB201</td>\n",
       "      <td>39.768337</td>\n",
       "    </tr>\n",
       "    <tr>\n",
       "      <th>2</th>\n",
       "      <td>000000014A4FE5C33A929D4C26943601</td>\n",
       "      <td>38.713133</td>\n",
       "    </tr>\n",
       "    <tr>\n",
       "      <th>3</th>\n",
       "      <td>000000014B7BB9957784A9BC0AC9F401</td>\n",
       "      <td>32.493780</td>\n",
       "    </tr>\n",
       "    <tr>\n",
       "      <th>4</th>\n",
       "      <td>000000014C7749F896D82C2B01E8B801</td>\n",
       "      <td>33.155544</td>\n",
       "    </tr>\n",
       "  </tbody>\n",
       "</table>\n",
       "</div>"
      ],
      "text/plain": [
       "                                 Id        age\n",
       "0  000000014A02348E701552980349FF01  42.688040\n",
       "1  000000014A10EA183BF8594A0B2AB201  39.768337\n",
       "2  000000014A4FE5C33A929D4C26943601  38.713133\n",
       "3  000000014B7BB9957784A9BC0AC9F401  32.493780\n",
       "4  000000014C7749F896D82C2B01E8B801  33.155544"
      ]
     },
     "execution_count": 22,
     "metadata": {},
     "output_type": "execute_result"
    }
   ],
   "source": [
    "urls_test_df.head()"
   ]
  },
  {
   "cell_type": "code",
   "execution_count": 29,
   "metadata": {
    "collapsed": false
   },
   "outputs": [],
   "source": [
    "random_sol = pd.read_csv('random_solution.csv')\n",
    "miss_idx = set(random_sol.Id.values) - set(urls_test_df.Id.values)\n",
    "miss_df = pd.DataFrame(list(zip(list(miss_idx), np.ones(len(miss_idx)))))\n",
    "miss_df.columns = ['Id', 'age']"
   ]
  },
  {
   "cell_type": "code",
   "execution_count": 30,
   "metadata": {
    "collapsed": false
   },
   "outputs": [],
   "source": [
    "urls_test_df = urls_test_df.append(miss_df, ignore_index=True)"
   ]
  },
  {
   "cell_type": "code",
   "execution_count": 31,
   "metadata": {
    "collapsed": true
   },
   "outputs": [],
   "source": [
    "urls_test_df.to_csv('solution.csv', index=False)"
   ]
  },
  {
   "cell_type": "code",
   "execution_count": 32,
   "metadata": {
    "collapsed": false
   },
   "outputs": [
    {
     "name": "stdout",
     "output_type": "stream",
     "text": [
      "   19980 solution.csv\r\n"
     ]
    }
   ],
   "source": [
    "!wc -l solution.csv"
   ]
  },
  {
   "cell_type": "code",
   "execution_count": null,
   "metadata": {
    "collapsed": true
   },
   "outputs": [],
   "source": []
  }
 ],
 "metadata": {
  "kernelspec": {
   "display_name": "Python 3",
   "language": "python",
   "name": "python3"
  },
  "language_info": {
   "codemirror_mode": {
    "name": "ipython",
    "version": 3
   },
   "file_extension": ".py",
   "mimetype": "text/x-python",
   "name": "python",
   "nbconvert_exporter": "python",
   "pygments_lexer": "ipython3",
   "version": "3.5.1"
  }
 },
 "nbformat": 4,
 "nbformat_minor": 0
}
