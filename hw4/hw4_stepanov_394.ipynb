{
 "cells": [
  {
   "cell_type": "code",
   "execution_count": 136,
   "metadata": {
    "collapsed": true
   },
   "outputs": [],
   "source": [
    "import numpy as np\n",
    "import pandas as pd\n",
    "from itertools import chain, groupby\n",
    "from collections import defaultdict\n",
    "from sklearn.linear_model import LinearRegression, Ridge, Lasso, ElasticNet\n",
    "from sklearn.cross_validation import cross_val_score\n",
    "from sklearn.feature_extraction.text import HashingVectorizer"
   ]
  },
  {
   "cell_type": "markdown",
   "metadata": {},
   "source": [
    "## Подготовка данных (urls)"
   ]
  },
  {
   "cell_type": "markdown",
   "metadata": {},
   "source": [
    "Я попытался учесть количество раз, с которым url встречается в браузерной истории пользователя."
   ]
  },
  {
   "cell_type": "code",
   "execution_count": 2,
   "metadata": {
    "collapsed": false
   },
   "outputs": [
    {
     "data": {
      "text/html": [
       "<div>\n",
       "<table border=\"1\" class=\"dataframe\">\n",
       "  <thead>\n",
       "    <tr style=\"text-align: right;\">\n",
       "      <th></th>\n",
       "      <th>id</th>\n",
       "      <th>url</th>\n",
       "      <th>count</th>\n",
       "    </tr>\n",
       "  </thead>\n",
       "  <tbody>\n",
       "    <tr>\n",
       "      <th>0</th>\n",
       "      <td>000000014B60815F65B38258011B6C01</td>\n",
       "      <td>login.rutracker.org</td>\n",
       "      <td>1</td>\n",
       "    </tr>\n",
       "    <tr>\n",
       "      <th>1</th>\n",
       "      <td>000000014B60815F65B38258011B6C01</td>\n",
       "      <td>rutracker.org</td>\n",
       "      <td>4</td>\n",
       "    </tr>\n",
       "    <tr>\n",
       "      <th>2</th>\n",
       "      <td>000000014C03DA2A47AC433A0C755201</td>\n",
       "      <td>admin.tour-spb.net</td>\n",
       "      <td>1</td>\n",
       "    </tr>\n",
       "    <tr>\n",
       "      <th>3</th>\n",
       "      <td>000000014C03DA2A47AC433A0C755201</td>\n",
       "      <td>czinfo.ru</td>\n",
       "      <td>1</td>\n",
       "    </tr>\n",
       "    <tr>\n",
       "      <th>4</th>\n",
       "      <td>000000014C03DA2A47AC433A0C755201</td>\n",
       "      <td>forumsostav.ru</td>\n",
       "      <td>1</td>\n",
       "    </tr>\n",
       "  </tbody>\n",
       "</table>\n",
       "</div>"
      ],
      "text/plain": [
       "                                 id                  url  count\n",
       "0  000000014B60815F65B38258011B6C01  login.rutracker.org      1\n",
       "1  000000014B60815F65B38258011B6C01        rutracker.org      4\n",
       "2  000000014C03DA2A47AC433A0C755201   admin.tour-spb.net      1\n",
       "3  000000014C03DA2A47AC433A0C755201            czinfo.ru      1\n",
       "4  000000014C03DA2A47AC433A0C755201       forumsostav.ru      1"
      ]
     },
     "execution_count": 2,
     "metadata": {},
     "output_type": "execute_result"
    }
   ],
   "source": [
    "urls_train_df = pd.read_csv('kaggle_data/url_domain_train', header=None, delimiter='\\t')\n",
    "urls_train_df.columns = ['id', 'url', 'count']\n",
    "urls_train_df.head()"
   ]
  },
  {
   "cell_type": "code",
   "execution_count": 3,
   "metadata": {
    "collapsed": false
   },
   "outputs": [
    {
     "data": {
      "text/html": [
       "<div>\n",
       "<table border=\"1\" class=\"dataframe\">\n",
       "  <thead>\n",
       "    <tr style=\"text-align: right;\">\n",
       "      <th></th>\n",
       "      <th>urls</th>\n",
       "      <th>id</th>\n",
       "    </tr>\n",
       "  </thead>\n",
       "  <tbody>\n",
       "    <tr>\n",
       "      <th>0</th>\n",
       "      <td>[(id.rambler.ru, 1), (mail.rambler.ru, 1), (r0...</td>\n",
       "      <td>000000013CB5719C0000A2C90002C101</td>\n",
       "    </tr>\n",
       "    <tr>\n",
       "      <th>1</th>\n",
       "      <td>[(1prime.ru, 1), (autorambler.ru, 1), (chellak...</td>\n",
       "      <td>00000001442BE24000001B7D00F50801</td>\n",
       "    </tr>\n",
       "    <tr>\n",
       "      <th>2</th>\n",
       "      <td>[(bosch-korolev.ru, 1)]</td>\n",
       "      <td>00000001448580F800003F1B31FB0901</td>\n",
       "    </tr>\n",
       "    <tr>\n",
       "      <th>3</th>\n",
       "      <td>[(aptekanizkihcen.ua, 1), (colady.ru, 1), (gor...</td>\n",
       "      <td>0000000145BDB2FF000157971645E901</td>\n",
       "    </tr>\n",
       "    <tr>\n",
       "      <th>4</th>\n",
       "      <td>[(astrorok.ru, 1), (diets.ru, 1), (edaplus.inf...</td>\n",
       "      <td>000000014602771F0000DB9359714C01</td>\n",
       "    </tr>\n",
       "  </tbody>\n",
       "</table>\n",
       "</div>"
      ],
      "text/plain": [
       "                                                urls  \\\n",
       "0  [(id.rambler.ru, 1), (mail.rambler.ru, 1), (r0...   \n",
       "1  [(1prime.ru, 1), (autorambler.ru, 1), (chellak...   \n",
       "2                            [(bosch-korolev.ru, 1)]   \n",
       "3  [(aptekanizkihcen.ua, 1), (colady.ru, 1), (gor...   \n",
       "4  [(astrorok.ru, 1), (diets.ru, 1), (edaplus.inf...   \n",
       "\n",
       "                                 id  \n",
       "0  000000013CB5719C0000A2C90002C101  \n",
       "1  00000001442BE24000001B7D00F50801  \n",
       "2  00000001448580F800003F1B31FB0901  \n",
       "3  0000000145BDB2FF000157971645E901  \n",
       "4  000000014602771F0000DB9359714C01  "
      ]
     },
     "execution_count": 3,
     "metadata": {},
     "output_type": "execute_result"
    }
   ],
   "source": [
    "urls_train_df = pd.DataFrame(urls_train_df.groupby('id').apply(lambda df: list(zip(df['url'], df['count']))))\n",
    "urls_train_df['id'] = urls_train_df.index\n",
    "urls_train_df.index = range(len(urls_train_df))\n",
    "urls_train_df.columns = ['urls', 'id']\n",
    "urls_train_df.head()"
   ]
  },
  {
   "cell_type": "code",
   "execution_count": 4,
   "metadata": {
    "collapsed": false
   },
   "outputs": [
    {
     "name": "stdout",
     "output_type": "stream",
     "text": [
      "Max age: 99\n",
      "Min age: 0\n"
     ]
    },
    {
     "data": {
      "text/html": [
       "<div>\n",
       "<table border=\"1\" class=\"dataframe\">\n",
       "  <thead>\n",
       "    <tr style=\"text-align: right;\">\n",
       "      <th></th>\n",
       "      <th>id</th>\n",
       "      <th>age</th>\n",
       "    </tr>\n",
       "  </thead>\n",
       "  <tbody>\n",
       "    <tr>\n",
       "      <th>0</th>\n",
       "      <td>000000013CB5719C0000A2C90002C101</td>\n",
       "      <td>53</td>\n",
       "    </tr>\n",
       "    <tr>\n",
       "      <th>1</th>\n",
       "      <td>00000001442BE24000001B7D00F50801</td>\n",
       "      <td>48</td>\n",
       "    </tr>\n",
       "    <tr>\n",
       "      <th>2</th>\n",
       "      <td>00000001448580F800003F1B31FB0901</td>\n",
       "      <td>28</td>\n",
       "    </tr>\n",
       "    <tr>\n",
       "      <th>3</th>\n",
       "      <td>0000000145BDB2FF000157971645E901</td>\n",
       "      <td>44</td>\n",
       "    </tr>\n",
       "    <tr>\n",
       "      <th>4</th>\n",
       "      <td>000000014602771F0000DB9359714C01</td>\n",
       "      <td>48</td>\n",
       "    </tr>\n",
       "  </tbody>\n",
       "</table>\n",
       "</div>"
      ],
      "text/plain": [
       "                                 id  age\n",
       "0  000000013CB5719C0000A2C90002C101   53\n",
       "1  00000001442BE24000001B7D00F50801   48\n",
       "2  00000001448580F800003F1B31FB0901   28\n",
       "3  0000000145BDB2FF000157971645E901   44\n",
       "4  000000014602771F0000DB9359714C01   48"
      ]
     },
     "execution_count": 4,
     "metadata": {},
     "output_type": "execute_result"
    }
   ],
   "source": [
    "age_train_df = pd.read_csv('kaggle_data/age_profile_train', header=None, delimiter='\\t')\n",
    "age_train_df.columns = ['id', 'age']\n",
    "print(\"Max age: {}\".format(max(age_train_df['age'])))\n",
    "print(\"Min age: {}\".format(min(age_train_df['age'])))\n",
    "age_train_df.head()"
   ]
  },
  {
   "cell_type": "code",
   "execution_count": 50,
   "metadata": {
    "collapsed": false,
    "scrolled": false
   },
   "outputs": [
    {
     "name": "stdout",
     "output_type": "stream",
     "text": [
      "118603\n"
     ]
    },
    {
     "data": {
      "text/html": [
       "<div>\n",
       "<table border=\"1\" class=\"dataframe\">\n",
       "  <thead>\n",
       "    <tr style=\"text-align: right;\">\n",
       "      <th></th>\n",
       "      <th>urls</th>\n",
       "      <th>id</th>\n",
       "      <th>age</th>\n",
       "    </tr>\n",
       "  </thead>\n",
       "  <tbody>\n",
       "    <tr>\n",
       "      <th>33</th>\n",
       "      <td>[(45fss.ru, 2), (fss.ru, 2), (kurgan.spravker....</td>\n",
       "      <td>000000014993E4FE0AF232A20A374C01</td>\n",
       "      <td>58</td>\n",
       "    </tr>\n",
       "    <tr>\n",
       "      <th>117</th>\n",
       "      <td>[(mail.rambler.ru, 1)]</td>\n",
       "      <td>000000014BB63F59B332AD2502C15401</td>\n",
       "      <td>58</td>\n",
       "    </tr>\n",
       "    <tr>\n",
       "      <th>197</th>\n",
       "      <td>[(freehouse.ru, 2), (topnomer.ru, 1)]</td>\n",
       "      <td>000000014D00FADA5629475402FAE401</td>\n",
       "      <td>58</td>\n",
       "    </tr>\n",
       "    <tr>\n",
       "      <th>290</th>\n",
       "      <td>[(mail.rambler.ru, 1)]</td>\n",
       "      <td>000000014E12FCD1517F2108000CF301</td>\n",
       "      <td>58</td>\n",
       "    </tr>\n",
       "    <tr>\n",
       "      <th>328</th>\n",
       "      <td>[(auto.vesti.ru, 1), (filmpro.ru, 1), (inforea...</td>\n",
       "      <td>000000014E22A4870B372EA500FA2E01</td>\n",
       "      <td>58</td>\n",
       "    </tr>\n",
       "    <tr>\n",
       "      <th>546</th>\n",
       "      <td>[(1prime.ru, 1), (assessor.ru, 1), (base.consu...</td>\n",
       "      <td>000000014FA4F5FE7B2C063702E1B901</td>\n",
       "      <td>58</td>\n",
       "    </tr>\n",
       "    <tr>\n",
       "      <th>560</th>\n",
       "      <td>[(assets.adobedtm.com, 1), (championat.com, 3)...</td>\n",
       "      <td>000000014FB2430800FF6001012F0501</td>\n",
       "      <td>58</td>\n",
       "    </tr>\n",
       "    <tr>\n",
       "      <th>710</th>\n",
       "      <td>[(ecson.ru, 1), (mail.rambler.ru, 19), (o-voyn...</td>\n",
       "      <td>00000001504EF1CB4215469206A3F901</td>\n",
       "      <td>58</td>\n",
       "    </tr>\n",
       "    <tr>\n",
       "      <th>733</th>\n",
       "      <td>[(1tv.ru, 2), (belaruspartisan.org, 1), (dieta...</td>\n",
       "      <td>0000000150614BA696E0528101171A01</td>\n",
       "      <td>58</td>\n",
       "    </tr>\n",
       "    <tr>\n",
       "      <th>832</th>\n",
       "      <td>[(bom-bom.ru, 1), (ffclub.ru, 1), (horoscopes....</td>\n",
       "      <td>0000000150BC9E9414058556001BE901</td>\n",
       "      <td>58</td>\n",
       "    </tr>\n",
       "    <tr>\n",
       "      <th>846</th>\n",
       "      <td>[(mail.rambler.ru, 5), (rubo.ru, 1)]</td>\n",
       "      <td>0000000150C7478615DA2C9301EF1A01</td>\n",
       "      <td>58</td>\n",
       "    </tr>\n",
       "    <tr>\n",
       "      <th>1009</th>\n",
       "      <td>[(mail.rambler.ru, 1)]</td>\n",
       "      <td>00000001512607D3B2713FAF07A67101</td>\n",
       "      <td>58</td>\n",
       "    </tr>\n",
       "    <tr>\n",
       "      <th>1101</th>\n",
       "      <td>[(03.ru, 1), (1000cxem.com, 1), (1tv.ru, 1), (...</td>\n",
       "      <td>000000015162B3E275C7CB2F0369E201</td>\n",
       "      <td>58</td>\n",
       "    </tr>\n",
       "    <tr>\n",
       "      <th>1177</th>\n",
       "      <td>[(docs.cntd.ru, 1), (mail.rambler.ru, 12), (mo...</td>\n",
       "      <td>0000000151A73B8714D6D648004E3501</td>\n",
       "      <td>58</td>\n",
       "    </tr>\n",
       "    <tr>\n",
       "      <th>1304</th>\n",
       "      <td>[(id.rambler.ru, 1), (mail.rambler.ru, 13), (r...</td>\n",
       "      <td>0000000151FB52990A7EBDBE011AD801</td>\n",
       "      <td>58</td>\n",
       "    </tr>\n",
       "    <tr>\n",
       "      <th>1372</th>\n",
       "      <td>[(lacywear.ru, 1), (mail.rambler.ru, 7)]</td>\n",
       "      <td>0000000152267BD8439FEE61005F1701</td>\n",
       "      <td>58</td>\n",
       "    </tr>\n",
       "    <tr>\n",
       "      <th>1511</th>\n",
       "      <td>[(ishariki.ru, 1), (mail.rambler.ru, 1), (news...</td>\n",
       "      <td>00000001527645CD017405DC03E3EB01</td>\n",
       "      <td>58</td>\n",
       "    </tr>\n",
       "    <tr>\n",
       "      <th>1516</th>\n",
       "      <td>[(altravita-ivf.ru, 1), (arbuzspb.ru, 1), (bn....</td>\n",
       "      <td>0000000152791B6210BB05E309803201</td>\n",
       "      <td>58</td>\n",
       "    </tr>\n",
       "    <tr>\n",
       "      <th>1525</th>\n",
       "      <td>[(24stoma.ru, 1), (2do2go.ru, 1), (allinform.r...</td>\n",
       "      <td>00000001527CD98F9FBD2F08037A8201</td>\n",
       "      <td>58</td>\n",
       "    </tr>\n",
       "    <tr>\n",
       "      <th>1594</th>\n",
       "      <td>[(images.rambler.ru, 1), (mail.rambler.ru, 12)...</td>\n",
       "      <td>0000000152A180AFA6DF2F0D48AD3A01</td>\n",
       "      <td>58</td>\n",
       "    </tr>\n",
       "    <tr>\n",
       "      <th>1662</th>\n",
       "      <td>[(101.ru, 1), (1366x768.ru, 1), (agent.mail.ru...</td>\n",
       "      <td>0000000152BDC6D5AF7916F00C55A301</td>\n",
       "      <td>58</td>\n",
       "    </tr>\n",
       "    <tr>\n",
       "      <th>1676</th>\n",
       "      <td>[(1001-dollar.com, 1), (aif.ru, 1), (approblem...</td>\n",
       "      <td>0000000152C1B760B761061D09808201</td>\n",
       "      <td>58</td>\n",
       "    </tr>\n",
       "    <tr>\n",
       "      <th>1882</th>\n",
       "      <td>[(agroserver.ru, 1), (aif.ru, 1), (autorambler...</td>\n",
       "      <td>00000001531DEB09770461000B5CA901</td>\n",
       "      <td>58</td>\n",
       "    </tr>\n",
       "    <tr>\n",
       "      <th>1915</th>\n",
       "      <td>[(aeroflot.ru, 1), (id.rambler.ru, 1), (m.aero...</td>\n",
       "      <td>00000001532F67E58F7395851B8D8C01</td>\n",
       "      <td>58</td>\n",
       "    </tr>\n",
       "    <tr>\n",
       "      <th>1968</th>\n",
       "      <td>[(7days.ru, 1), (download.drweb.ru, 1), (drweb...</td>\n",
       "      <td>0000000153458BB3752E31662E0F8D01</td>\n",
       "      <td>58</td>\n",
       "    </tr>\n",
       "    <tr>\n",
       "      <th>2024</th>\n",
       "      <td>[(7days.ru, 1), (aif.ru, 1), (autonews.ru, 1),...</td>\n",
       "      <td>00000001536248D667D97EAE00C6C601</td>\n",
       "      <td>58</td>\n",
       "    </tr>\n",
       "    <tr>\n",
       "      <th>2106</th>\n",
       "      <td>[(cekatop.ru, 1), (images.rambler.ru, 1), (int...</td>\n",
       "      <td>00000001538EADA091239E460082AA01</td>\n",
       "      <td>58</td>\n",
       "    </tr>\n",
       "    <tr>\n",
       "      <th>2122</th>\n",
       "      <td>[(assessor.ru, 1), (base.consultant.ru, 1), (c...</td>\n",
       "      <td>000000015395E6EC7EFF761603CBF701</td>\n",
       "      <td>58</td>\n",
       "    </tr>\n",
       "    <tr>\n",
       "      <th>2124</th>\n",
       "      <td>[(abisoft.ru, 1), (aif.ru, 1), (autorambler.ru...</td>\n",
       "      <td>000000015396904A81734C5E0230F201</td>\n",
       "      <td>58</td>\n",
       "    </tr>\n",
       "    <tr>\n",
       "      <th>2264</th>\n",
       "      <td>[(aif.ru, 1), (autorambler.ru, 1), (avtodispet...</td>\n",
       "      <td>0000000153D28A1A1334DF97005F3801</td>\n",
       "      <td>58</td>\n",
       "    </tr>\n",
       "    <tr>\n",
       "      <th>...</th>\n",
       "      <td>...</td>\n",
       "      <td>...</td>\n",
       "      <td>...</td>\n",
       "    </tr>\n",
       "    <tr>\n",
       "      <th>113454</th>\n",
       "      <td>[(amerricana.ru, 1), (besumka.livejournal.com,...</td>\n",
       "      <td>0623981656F0DBAF000004F5074AE401</td>\n",
       "      <td>58</td>\n",
       "    </tr>\n",
       "    <tr>\n",
       "      <th>113752</th>\n",
       "      <td>[(10minecraft.ru, 5), (archive.espec.ws, 1), (...</td>\n",
       "      <td>0623DC7156EC4BE60000055B2B72B601</td>\n",
       "      <td>58</td>\n",
       "    </tr>\n",
       "    <tr>\n",
       "      <th>114229</th>\n",
       "      <td>[(mail.rambler.ru, 11), (ukrainians-world.org....</td>\n",
       "      <td>06242EA855A2718600006DFBFA279301</td>\n",
       "      <td>58</td>\n",
       "    </tr>\n",
       "    <tr>\n",
       "      <th>114344</th>\n",
       "      <td>[(aif.ru, 3), (autorambler.ru, 2), (davydov-in...</td>\n",
       "      <td>06243F8256E630C800000536C9052501</td>\n",
       "      <td>58</td>\n",
       "    </tr>\n",
       "    <tr>\n",
       "      <th>114349</th>\n",
       "      <td>[(adv.msk.ru, 1), (consultant.ru, 1), (law-raa...</td>\n",
       "      <td>06243F8256F61B720000517A36CEC501</td>\n",
       "      <td>58</td>\n",
       "    </tr>\n",
       "    <tr>\n",
       "      <th>114773</th>\n",
       "      <td>[(aup.ru, 1), (cfin.ru, 1), (citforum.ru, 1), ...</td>\n",
       "      <td>062473D25704C36700006DD1C18D0101</td>\n",
       "      <td>58</td>\n",
       "    </tr>\n",
       "    <tr>\n",
       "      <th>114910</th>\n",
       "      <td>[(catchenglish.ru, 1), (englishtopics.net, 1),...</td>\n",
       "      <td>0624820456B70213000051E0FEA83501</td>\n",
       "      <td>58</td>\n",
       "    </tr>\n",
       "    <tr>\n",
       "      <th>115062</th>\n",
       "      <td>[(ag.ru, 1), (amanmarket.com, 1), (bezprogramm...</td>\n",
       "      <td>062495DE5686BF77000023030D6C0201</td>\n",
       "      <td>58</td>\n",
       "    </tr>\n",
       "    <tr>\n",
       "      <th>115096</th>\n",
       "      <td>[(auto.drom.ru, 1), (barabinsk.tiu.ru, 1), (ch...</td>\n",
       "      <td>062495DE56D858AD000005346B081F01</td>\n",
       "      <td>58</td>\n",
       "    </tr>\n",
       "    <tr>\n",
       "      <th>115263</th>\n",
       "      <td>[(b-port.com, 1), (base.garant.ru, 1), (consul...</td>\n",
       "      <td>0624B08E5698A299000005476ABDA701</td>\n",
       "      <td>58</td>\n",
       "    </tr>\n",
       "    <tr>\n",
       "      <th>115312</th>\n",
       "      <td>[(0564.ua, 1), (dgex-studio.ru, 1), (forum.vgd...</td>\n",
       "      <td>0624BCF855F7C40B000050132DD84101</td>\n",
       "      <td>58</td>\n",
       "    </tr>\n",
       "    <tr>\n",
       "      <th>115316</th>\n",
       "      <td>[(0552online.com, 14), (101trava.ru, 1), (an-k...</td>\n",
       "      <td>0624BE37555503F60000330DADD81C01</td>\n",
       "      <td>58</td>\n",
       "    </tr>\n",
       "    <tr>\n",
       "      <th>115834</th>\n",
       "      <td>[(100pereezdov.ru, 1), (enter.unicredit.ru, 2)...</td>\n",
       "      <td>0625107456F161C80000055599659C01</td>\n",
       "      <td>58</td>\n",
       "    </tr>\n",
       "    <tr>\n",
       "      <th>116626</th>\n",
       "      <td>[(all-profy.ru, 1), (cmclub.ru, 1), (confy.ru,...</td>\n",
       "      <td>0625854456FBA43000000555663EA601</td>\n",
       "      <td>58</td>\n",
       "    </tr>\n",
       "    <tr>\n",
       "      <th>116646</th>\n",
       "      <td>[(beats4you.ru, 1), (business-vending.ru, 1), ...</td>\n",
       "      <td>06258B295646F689000004EDD23E6401</td>\n",
       "      <td>58</td>\n",
       "    </tr>\n",
       "    <tr>\n",
       "      <th>116743</th>\n",
       "      <td>[(bsphere.ru, 1), (homeopatica.ru, 1), (homeos...</td>\n",
       "      <td>0625973156B882D700006E0D7FA32D01</td>\n",
       "      <td>58</td>\n",
       "    </tr>\n",
       "    <tr>\n",
       "      <th>116746</th>\n",
       "      <td>[(7nebo-otel.ru, 1), (mail.rambler.ru, 1), (na...</td>\n",
       "      <td>0625976F55F687320000053696F85801</td>\n",
       "      <td>58</td>\n",
       "    </tr>\n",
       "    <tr>\n",
       "      <th>116899</th>\n",
       "      <td>[(bestsmoking.ru, 1), (bigpicture.ru, 1), (cre...</td>\n",
       "      <td>0625A36F56F5173F000004D65CEFC901</td>\n",
       "      <td>58</td>\n",
       "    </tr>\n",
       "    <tr>\n",
       "      <th>117227</th>\n",
       "      <td>[(expert.ru, 1), (kino-teatr.ru, 1), (kommersa...</td>\n",
       "      <td>0625DCFB56E8F78B000004FD590EDE01</td>\n",
       "      <td>58</td>\n",
       "    </tr>\n",
       "    <tr>\n",
       "      <th>117228</th>\n",
       "      <td>[(aquarists.ru, 1), (feltdoll.blogspot.ru, 1),...</td>\n",
       "      <td>0625DCFB56FAAAFE0000053C557BAA01</td>\n",
       "      <td>58</td>\n",
       "    </tr>\n",
       "    <tr>\n",
       "      <th>117230</th>\n",
       "      <td>[(kramola.info, 5), (mail.rambler.ru, 2), (new...</td>\n",
       "      <td>0625DDCA56E6B2E600006DE94C797901</td>\n",
       "      <td>58</td>\n",
       "    </tr>\n",
       "    <tr>\n",
       "      <th>117310</th>\n",
       "      <td>[(afve.org, 1), (cosmo.ru, 1), (family.rambler...</td>\n",
       "      <td>0625E40E56947CFA00015CFA12053201</td>\n",
       "      <td>58</td>\n",
       "    </tr>\n",
       "    <tr>\n",
       "      <th>117577</th>\n",
       "      <td>[(mail-pda.rambler.ru, 1), (rambler.ru, 1)]</td>\n",
       "      <td>0625E40E56F0FC150000053D7E806001</td>\n",
       "      <td>58</td>\n",
       "    </tr>\n",
       "    <tr>\n",
       "      <th>117667</th>\n",
       "      <td>[(autorambler.ru, 1), (mail.rambler.ru, 1), (r...</td>\n",
       "      <td>0625E40E56F434D80000517A155C0601</td>\n",
       "      <td>58</td>\n",
       "    </tr>\n",
       "    <tr>\n",
       "      <th>117739</th>\n",
       "      <td>[(championat.com, 1), (cosmo.ru, 1), (expert.r...</td>\n",
       "      <td>0625E40E56F6BA550000053F22F91801</td>\n",
       "      <td>58</td>\n",
       "    </tr>\n",
       "    <tr>\n",
       "      <th>117955</th>\n",
       "      <td>[(mail.rambler.ru, 1), (rambler.ru, 1)]</td>\n",
       "      <td>0625E40E56FE2D680000055EB5D91B01</td>\n",
       "      <td>58</td>\n",
       "    </tr>\n",
       "    <tr>\n",
       "      <th>118152</th>\n",
       "      <td>[(5minshop.com, 1), (dialog.ua, 1), (forbes.ru...</td>\n",
       "      <td>0625EBC256FC9BA6000051A4B96B6201</td>\n",
       "      <td>58</td>\n",
       "    </tr>\n",
       "    <tr>\n",
       "      <th>118301</th>\n",
       "      <td>[(actuallno.com, 1), (aif.ru, 1), (mail.ramble...</td>\n",
       "      <td>06323A7556FE33360000054487719601</td>\n",
       "      <td>58</td>\n",
       "    </tr>\n",
       "    <tr>\n",
       "      <th>118591</th>\n",
       "      <td>[(kino-teatr.ru, 1), (knijky.ru, 8), (zak.depo...</td>\n",
       "      <td>7DF577774777BDFDBA7EEF9F77F6C6D7</td>\n",
       "      <td>58</td>\n",
       "    </tr>\n",
       "    <tr>\n",
       "      <th>118599</th>\n",
       "      <td>[(aif.ru, 1), (autochel.ru, 5), (chelyabinsk.r...</td>\n",
       "      <td>E9B9D7D347EB1ACE5AAEEBFCE3FBCE7B</td>\n",
       "      <td>58</td>\n",
       "    </tr>\n",
       "  </tbody>\n",
       "</table>\n",
       "<p>984 rows × 3 columns</p>\n",
       "</div>"
      ],
      "text/plain": [
       "                                                     urls  \\\n",
       "33      [(45fss.ru, 2), (fss.ru, 2), (kurgan.spravker....   \n",
       "117                                [(mail.rambler.ru, 1)]   \n",
       "197                 [(freehouse.ru, 2), (topnomer.ru, 1)]   \n",
       "290                                [(mail.rambler.ru, 1)]   \n",
       "328     [(auto.vesti.ru, 1), (filmpro.ru, 1), (inforea...   \n",
       "546     [(1prime.ru, 1), (assessor.ru, 1), (base.consu...   \n",
       "560     [(assets.adobedtm.com, 1), (championat.com, 3)...   \n",
       "710     [(ecson.ru, 1), (mail.rambler.ru, 19), (o-voyn...   \n",
       "733     [(1tv.ru, 2), (belaruspartisan.org, 1), (dieta...   \n",
       "832     [(bom-bom.ru, 1), (ffclub.ru, 1), (horoscopes....   \n",
       "846                  [(mail.rambler.ru, 5), (rubo.ru, 1)]   \n",
       "1009                               [(mail.rambler.ru, 1)]   \n",
       "1101    [(03.ru, 1), (1000cxem.com, 1), (1tv.ru, 1), (...   \n",
       "1177    [(docs.cntd.ru, 1), (mail.rambler.ru, 12), (mo...   \n",
       "1304    [(id.rambler.ru, 1), (mail.rambler.ru, 13), (r...   \n",
       "1372             [(lacywear.ru, 1), (mail.rambler.ru, 7)]   \n",
       "1511    [(ishariki.ru, 1), (mail.rambler.ru, 1), (news...   \n",
       "1516    [(altravita-ivf.ru, 1), (arbuzspb.ru, 1), (bn....   \n",
       "1525    [(24stoma.ru, 1), (2do2go.ru, 1), (allinform.r...   \n",
       "1594    [(images.rambler.ru, 1), (mail.rambler.ru, 12)...   \n",
       "1662    [(101.ru, 1), (1366x768.ru, 1), (agent.mail.ru...   \n",
       "1676    [(1001-dollar.com, 1), (aif.ru, 1), (approblem...   \n",
       "1882    [(agroserver.ru, 1), (aif.ru, 1), (autorambler...   \n",
       "1915    [(aeroflot.ru, 1), (id.rambler.ru, 1), (m.aero...   \n",
       "1968    [(7days.ru, 1), (download.drweb.ru, 1), (drweb...   \n",
       "2024    [(7days.ru, 1), (aif.ru, 1), (autonews.ru, 1),...   \n",
       "2106    [(cekatop.ru, 1), (images.rambler.ru, 1), (int...   \n",
       "2122    [(assessor.ru, 1), (base.consultant.ru, 1), (c...   \n",
       "2124    [(abisoft.ru, 1), (aif.ru, 1), (autorambler.ru...   \n",
       "2264    [(aif.ru, 1), (autorambler.ru, 1), (avtodispet...   \n",
       "...                                                   ...   \n",
       "113454  [(amerricana.ru, 1), (besumka.livejournal.com,...   \n",
       "113752  [(10minecraft.ru, 5), (archive.espec.ws, 1), (...   \n",
       "114229  [(mail.rambler.ru, 11), (ukrainians-world.org....   \n",
       "114344  [(aif.ru, 3), (autorambler.ru, 2), (davydov-in...   \n",
       "114349  [(adv.msk.ru, 1), (consultant.ru, 1), (law-raa...   \n",
       "114773  [(aup.ru, 1), (cfin.ru, 1), (citforum.ru, 1), ...   \n",
       "114910  [(catchenglish.ru, 1), (englishtopics.net, 1),...   \n",
       "115062  [(ag.ru, 1), (amanmarket.com, 1), (bezprogramm...   \n",
       "115096  [(auto.drom.ru, 1), (barabinsk.tiu.ru, 1), (ch...   \n",
       "115263  [(b-port.com, 1), (base.garant.ru, 1), (consul...   \n",
       "115312  [(0564.ua, 1), (dgex-studio.ru, 1), (forum.vgd...   \n",
       "115316  [(0552online.com, 14), (101trava.ru, 1), (an-k...   \n",
       "115834  [(100pereezdov.ru, 1), (enter.unicredit.ru, 2)...   \n",
       "116626  [(all-profy.ru, 1), (cmclub.ru, 1), (confy.ru,...   \n",
       "116646  [(beats4you.ru, 1), (business-vending.ru, 1), ...   \n",
       "116743  [(bsphere.ru, 1), (homeopatica.ru, 1), (homeos...   \n",
       "116746  [(7nebo-otel.ru, 1), (mail.rambler.ru, 1), (na...   \n",
       "116899  [(bestsmoking.ru, 1), (bigpicture.ru, 1), (cre...   \n",
       "117227  [(expert.ru, 1), (kino-teatr.ru, 1), (kommersa...   \n",
       "117228  [(aquarists.ru, 1), (feltdoll.blogspot.ru, 1),...   \n",
       "117230  [(kramola.info, 5), (mail.rambler.ru, 2), (new...   \n",
       "117310  [(afve.org, 1), (cosmo.ru, 1), (family.rambler...   \n",
       "117577        [(mail-pda.rambler.ru, 1), (rambler.ru, 1)]   \n",
       "117667  [(autorambler.ru, 1), (mail.rambler.ru, 1), (r...   \n",
       "117739  [(championat.com, 1), (cosmo.ru, 1), (expert.r...   \n",
       "117955            [(mail.rambler.ru, 1), (rambler.ru, 1)]   \n",
       "118152  [(5minshop.com, 1), (dialog.ua, 1), (forbes.ru...   \n",
       "118301  [(actuallno.com, 1), (aif.ru, 1), (mail.ramble...   \n",
       "118591  [(kino-teatr.ru, 1), (knijky.ru, 8), (zak.depo...   \n",
       "118599  [(aif.ru, 1), (autochel.ru, 5), (chelyabinsk.r...   \n",
       "\n",
       "                                      id  age  \n",
       "33      000000014993E4FE0AF232A20A374C01   58  \n",
       "117     000000014BB63F59B332AD2502C15401   58  \n",
       "197     000000014D00FADA5629475402FAE401   58  \n",
       "290     000000014E12FCD1517F2108000CF301   58  \n",
       "328     000000014E22A4870B372EA500FA2E01   58  \n",
       "546     000000014FA4F5FE7B2C063702E1B901   58  \n",
       "560     000000014FB2430800FF6001012F0501   58  \n",
       "710     00000001504EF1CB4215469206A3F901   58  \n",
       "733     0000000150614BA696E0528101171A01   58  \n",
       "832     0000000150BC9E9414058556001BE901   58  \n",
       "846     0000000150C7478615DA2C9301EF1A01   58  \n",
       "1009    00000001512607D3B2713FAF07A67101   58  \n",
       "1101    000000015162B3E275C7CB2F0369E201   58  \n",
       "1177    0000000151A73B8714D6D648004E3501   58  \n",
       "1304    0000000151FB52990A7EBDBE011AD801   58  \n",
       "1372    0000000152267BD8439FEE61005F1701   58  \n",
       "1511    00000001527645CD017405DC03E3EB01   58  \n",
       "1516    0000000152791B6210BB05E309803201   58  \n",
       "1525    00000001527CD98F9FBD2F08037A8201   58  \n",
       "1594    0000000152A180AFA6DF2F0D48AD3A01   58  \n",
       "1662    0000000152BDC6D5AF7916F00C55A301   58  \n",
       "1676    0000000152C1B760B761061D09808201   58  \n",
       "1882    00000001531DEB09770461000B5CA901   58  \n",
       "1915    00000001532F67E58F7395851B8D8C01   58  \n",
       "1968    0000000153458BB3752E31662E0F8D01   58  \n",
       "2024    00000001536248D667D97EAE00C6C601   58  \n",
       "2106    00000001538EADA091239E460082AA01   58  \n",
       "2122    000000015395E6EC7EFF761603CBF701   58  \n",
       "2124    000000015396904A81734C5E0230F201   58  \n",
       "2264    0000000153D28A1A1334DF97005F3801   58  \n",
       "...                                  ...  ...  \n",
       "113454  0623981656F0DBAF000004F5074AE401   58  \n",
       "113752  0623DC7156EC4BE60000055B2B72B601   58  \n",
       "114229  06242EA855A2718600006DFBFA279301   58  \n",
       "114344  06243F8256E630C800000536C9052501   58  \n",
       "114349  06243F8256F61B720000517A36CEC501   58  \n",
       "114773  062473D25704C36700006DD1C18D0101   58  \n",
       "114910  0624820456B70213000051E0FEA83501   58  \n",
       "115062  062495DE5686BF77000023030D6C0201   58  \n",
       "115096  062495DE56D858AD000005346B081F01   58  \n",
       "115263  0624B08E5698A299000005476ABDA701   58  \n",
       "115312  0624BCF855F7C40B000050132DD84101   58  \n",
       "115316  0624BE37555503F60000330DADD81C01   58  \n",
       "115834  0625107456F161C80000055599659C01   58  \n",
       "116626  0625854456FBA43000000555663EA601   58  \n",
       "116646  06258B295646F689000004EDD23E6401   58  \n",
       "116743  0625973156B882D700006E0D7FA32D01   58  \n",
       "116746  0625976F55F687320000053696F85801   58  \n",
       "116899  0625A36F56F5173F000004D65CEFC901   58  \n",
       "117227  0625DCFB56E8F78B000004FD590EDE01   58  \n",
       "117228  0625DCFB56FAAAFE0000053C557BAA01   58  \n",
       "117230  0625DDCA56E6B2E600006DE94C797901   58  \n",
       "117310  0625E40E56947CFA00015CFA12053201   58  \n",
       "117577  0625E40E56F0FC150000053D7E806001   58  \n",
       "117667  0625E40E56F434D80000517A155C0601   58  \n",
       "117739  0625E40E56F6BA550000053F22F91801   58  \n",
       "117955  0625E40E56FE2D680000055EB5D91B01   58  \n",
       "118152  0625EBC256FC9BA6000051A4B96B6201   58  \n",
       "118301  06323A7556FE33360000054487719601   58  \n",
       "118591  7DF577774777BDFDBA7EEF9F77F6C6D7   58  \n",
       "118599  E9B9D7D347EB1ACE5AAEEBFCE3FBCE7B   58  \n",
       "\n",
       "[984 rows x 3 columns]"
      ]
     },
     "execution_count": 50,
     "metadata": {},
     "output_type": "execute_result"
    }
   ],
   "source": [
    "train_df = urls_train_df.merge(age_train_df, on='id', how='left')\n",
    "print(len(train_df))\n",
    "train_df[train_df['age'] == 58]"
   ]
  },
  {
   "cell_type": "markdown",
   "metadata": {},
   "source": [
    "## Снижение размерности"
   ]
  },
  {
   "cell_type": "markdown",
   "metadata": {},
   "source": [
    "Здесь я попытался реализовать то, что было описано на семинаре.\n",
    "Для каждого $i \\in \\{0, \\ldots, 9\\}$ я считаю $P(age \\in [10 i, 10 (i + 1)) | url)$. В результате у меня получается 10 словарей с условными вероятностями для каждого url и для каждого отрезка возраста."
   ]
  },
  {
   "cell_type": "code",
   "execution_count": 6,
   "metadata": {
    "collapsed": false
   },
   "outputs": [
    {
     "data": {
      "text/plain": [
       "118603"
      ]
     },
     "execution_count": 6,
     "metadata": {},
     "output_type": "execute_result"
    }
   ],
   "source": [
    "len(train_df)"
   ]
  },
  {
   "cell_type": "code",
   "execution_count": 7,
   "metadata": {
    "collapsed": false
   },
   "outputs": [
    {
     "name": "stdout",
     "output_type": "stream",
     "text": [
      "0\n",
      "1\n",
      "2\n",
      "3\n",
      "4\n",
      "5\n",
      "6\n",
      "7\n",
      "8\n",
      "9\n"
     ]
    }
   ],
   "source": [
    "def calc_probs(train_df, from_age, to_age):\n",
    "    total_visits = defaultdict(float)\n",
    "    cond_visits = defaultdict(float)\n",
    "    for domains, age in zip(train_df.urls.values, train_df.age.values):\n",
    "        for domain, count in domains:\n",
    "            if age in range(from_age, to_age):\n",
    "                cond_visits[domain] += count\n",
    "            total_visits[domain] += count\n",
    "    for key in cond_visits:\n",
    "        cond_visits[key] /= total_visits[key]\n",
    "    return cond_visits\n",
    "\n",
    "conditionals = []\n",
    "for i in range(10):\n",
    "    print(i)\n",
    "    conditionals.append(calc_probs(train_df, 10 * i, 10 * (i + 1)))"
   ]
  },
  {
   "cell_type": "markdown",
   "metadata": {},
   "source": [
    "Далее, вектор фичей, которые отвечают за пользователя, строится так: для каждого отрезка возраста строится гистограмма из 100 бакетов, и все они сливаются. Получается вектор длины 1000. К сожалению некоторые компоненты этих векторов получаются зависимыми, но я так и не смог придумать, как учитывать одновременно много промежутков возростов и сделать так, чтобы фичи были независимы. Можно, конечно, сделать $P(age \\in [0, 25] | url)$, но так получается, что мы слишком сильно теряем информации из входных данных."
   ]
  },
  {
   "cell_type": "code",
   "execution_count": 115,
   "metadata": {
    "collapsed": false
   },
   "outputs": [],
   "source": [
    "def transform(urls):\n",
    "    x = np.zeros((1000,))\n",
    "    for url, count in urls:\n",
    "        for i in range(10):\n",
    "            if url in conditionals[i]:\n",
    "                probability = conditionals[i][url]\n",
    "                x[100 * i + int((probability - 1e-6) * 100)] += count\n",
    "            \n",
    "    return x / np.linalg.norm(x)"
   ]
  },
  {
   "cell_type": "code",
   "execution_count": 20,
   "metadata": {
    "collapsed": false
   },
   "outputs": [],
   "source": [
    "y = train_df.age.values\n",
    "X = []\n",
    "for val in train_df.urls.values:\n",
    "    X.append(transform(val))"
   ]
  },
  {
   "cell_type": "code",
   "execution_count": 21,
   "metadata": {
    "collapsed": false
   },
   "outputs": [
    {
     "data": {
      "text/plain": [
       "118603"
      ]
     },
     "execution_count": 21,
     "metadata": {},
     "output_type": "execute_result"
    }
   ],
   "source": [
    "len(y)"
   ]
  },
  {
   "cell_type": "code",
   "execution_count": 22,
   "metadata": {
    "collapsed": false
   },
   "outputs": [
    {
     "data": {
      "text/plain": [
       "(118603, 1000)"
      ]
     },
     "execution_count": 22,
     "metadata": {},
     "output_type": "execute_result"
    }
   ],
   "source": [
    "X = np.array(X)\n",
    "X.shape"
   ]
  },
  {
   "cell_type": "code",
   "execution_count": 69,
   "metadata": {
    "collapsed": false
   },
   "outputs": [
    {
     "data": {
      "text/plain": [
       "array([ 0.01667593,  0.38910512,  0.04446916,  0.        ,  0.        ,\n",
       "        0.        ,  0.        ,  0.00555864,  0.        ,  0.        ,\n",
       "        0.00555864,  0.        ,  0.        ,  0.        ,  0.        ,\n",
       "        0.        ,  0.        ,  0.        ,  0.        ,  0.        ,\n",
       "        0.        ,  0.        ,  0.        ,  0.        ,  0.        ,\n",
       "        0.        ,  0.        ,  0.        ,  0.        ,  0.        ,\n",
       "        0.        ,  0.        ,  0.        ,  0.        ,  0.        ,\n",
       "        0.        ,  0.        ,  0.        ,  0.        ,  0.        ,\n",
       "        0.        ,  0.        ,  0.        ,  0.        ,  0.        ,\n",
       "        0.        ,  0.        ,  0.        ,  0.        ,  0.        ,\n",
       "        0.        ,  0.        ,  0.        ,  0.        ,  0.        ,\n",
       "        0.        ,  0.        ,  0.        ,  0.        ,  0.        ,\n",
       "        0.        ,  0.        ,  0.        ,  0.        ,  0.        ,\n",
       "        0.        ,  0.        ,  0.        ,  0.        ,  0.        ,\n",
       "        0.        ,  0.        ,  0.        ,  0.        ,  0.        ,\n",
       "        0.        ,  0.        ,  0.        ,  0.        ,  0.        ,\n",
       "        0.        ,  0.        ,  0.        ,  0.        ,  0.        ,\n",
       "        0.        ,  0.        ,  0.        ,  0.        ,  0.        ,\n",
       "        0.        ,  0.        ,  0.        ,  0.        ,  0.        ,\n",
       "        0.        ,  0.        ,  0.        ,  0.        ,  0.        ,\n",
       "        0.02779322,  0.35019461,  0.07782102,  0.00555864,  0.        ,\n",
       "        0.        ,  0.        ,  0.        ,  0.        ,  0.        ,\n",
       "        0.        ,  0.        ,  0.        ,  0.        ,  0.        ,\n",
       "        0.        ,  0.        ,  0.        ,  0.        ,  0.        ,\n",
       "        0.        ,  0.        ,  0.        ,  0.        ,  0.        ,\n",
       "        0.        ,  0.        ,  0.        ,  0.        ,  0.        ,\n",
       "        0.        ,  0.        ,  0.        ,  0.        ,  0.        ,\n",
       "        0.        ,  0.        ,  0.        ,  0.        ,  0.        ,\n",
       "        0.        ,  0.        ,  0.        ,  0.        ,  0.        ,\n",
       "        0.        ,  0.        ,  0.        ,  0.        ,  0.        ,\n",
       "        0.        ,  0.        ,  0.        ,  0.        ,  0.        ,\n",
       "        0.        ,  0.        ,  0.        ,  0.        ,  0.        ,\n",
       "        0.        ,  0.        ,  0.        ,  0.        ,  0.        ,\n",
       "        0.        ,  0.        ,  0.        ,  0.        ,  0.        ,\n",
       "        0.        ,  0.        ,  0.        ,  0.        ,  0.        ,\n",
       "        0.        ,  0.        ,  0.        ,  0.        ,  0.        ,\n",
       "        0.        ,  0.        ,  0.        ,  0.        ,  0.        ,\n",
       "        0.        ,  0.        ,  0.        ,  0.        ,  0.        ,\n",
       "        0.        ,  0.        ,  0.        ,  0.        ,  0.        ,\n",
       "        0.        ,  0.        ,  0.        ,  0.        ,  0.        ,\n",
       "        0.00555864,  0.        ,  0.        ,  0.        ,  0.        ,\n",
       "        0.        ,  0.        ,  0.        ,  0.00555864,  0.12784882,\n",
       "        0.01111729,  0.03891051,  0.13896611,  0.01667593,  0.00555864,\n",
       "        0.02223458,  0.00555864,  0.        ,  0.        ,  0.01667593,\n",
       "        0.01111729,  0.        ,  0.00555864,  0.01111729,  0.        ,\n",
       "        0.01111729,  0.        ,  0.00555864,  0.00555864,  0.        ,\n",
       "        0.        ,  0.        ,  0.        ,  0.        ,  0.00555864,\n",
       "        0.        ,  0.        ,  0.        ,  0.        ,  0.01111729,\n",
       "        0.        ,  0.        ,  0.        ,  0.        ,  0.        ,\n",
       "        0.        ,  0.        ,  0.        ,  0.        ,  0.        ,\n",
       "        0.        ,  0.        ,  0.        ,  0.        ,  0.        ,\n",
       "        0.        ,  0.        ,  0.        ,  0.        ,  0.        ,\n",
       "        0.        ,  0.        ,  0.        ,  0.        ,  0.        ,\n",
       "        0.        ,  0.        ,  0.        ,  0.        ,  0.        ,\n",
       "        0.        ,  0.        ,  0.        ,  0.        ,  0.        ,\n",
       "        0.        ,  0.        ,  0.        ,  0.        ,  0.        ,\n",
       "        0.        ,  0.        ,  0.        ,  0.        ,  0.        ,\n",
       "        0.        ,  0.        ,  0.        ,  0.        ,  0.        ,\n",
       "        0.        ,  0.        ,  0.        ,  0.        ,  0.        ,\n",
       "        0.        ,  0.        ,  0.        ,  0.        ,  0.        ,\n",
       "        0.00555864,  0.        ,  0.        ,  0.        ,  0.        ,\n",
       "        0.        ,  0.        ,  0.        ,  0.        ,  0.        ,\n",
       "        0.        ,  0.        ,  0.        ,  0.        ,  0.        ,\n",
       "        0.00555864,  0.        ,  0.        ,  0.        ,  0.01111729,\n",
       "        0.        ,  0.01667593,  0.00555864,  0.00555864,  0.16675934,\n",
       "        0.02779322,  0.01667593,  0.        ,  0.01111729,  0.11673154,\n",
       "        0.01667593,  0.        ,  0.01667593,  0.02223458,  0.01111729,\n",
       "        0.        ,  0.        ,  0.        ,  0.        ,  0.        ,\n",
       "        0.        ,  0.        ,  0.        ,  0.        ,  0.        ,\n",
       "        0.        ,  0.        ,  0.        ,  0.        ,  0.00555864,\n",
       "        0.        ,  0.        ,  0.        ,  0.        ,  0.        ,\n",
       "        0.        ,  0.        ,  0.        ,  0.        ,  0.        ,\n",
       "        0.        ,  0.        ,  0.        ,  0.        ,  0.        ,\n",
       "        0.        ,  0.        ,  0.        ,  0.        ,  0.        ,\n",
       "        0.        ,  0.        ,  0.        ,  0.        ,  0.        ,\n",
       "        0.        ,  0.        ,  0.        ,  0.        ,  0.        ,\n",
       "        0.        ,  0.        ,  0.        ,  0.        ,  0.        ,\n",
       "        0.        ,  0.        ,  0.        ,  0.        ,  0.        ,\n",
       "        0.        ,  0.        ,  0.        ,  0.        ,  0.        ,\n",
       "        0.        ,  0.        ,  0.        ,  0.        ,  0.        ,\n",
       "        0.        ,  0.        ,  0.        ,  0.        ,  0.        ,\n",
       "        0.        ,  0.        ,  0.        ,  0.        ,  0.        ,\n",
       "        0.        ,  0.        ,  0.00555864,  0.        ,  0.        ,\n",
       "        0.        ,  0.        ,  0.        ,  0.00555864,  0.02223458,\n",
       "        0.00555864,  0.00555864,  0.03891051,  0.01667593,  0.03335187,\n",
       "        0.01667593,  0.13896611,  0.08893831,  0.06114509,  0.01111729,\n",
       "        0.00555864,  0.        ,  0.        ,  0.        ,  0.        ,\n",
       "        0.        ,  0.        ,  0.        ,  0.        ,  0.        ,\n",
       "        0.        ,  0.        ,  0.        ,  0.        ,  0.        ,\n",
       "        0.        ,  0.        ,  0.        ,  0.        ,  0.00555864,\n",
       "        0.        ,  0.        ,  0.        ,  0.        ,  0.        ,\n",
       "        0.        ,  0.        ,  0.        ,  0.        ,  0.        ,\n",
       "        0.        ,  0.        ,  0.        ,  0.        ,  0.        ,\n",
       "        0.        ,  0.        ,  0.        ,  0.        ,  0.        ,\n",
       "        0.        ,  0.        ,  0.        ,  0.        ,  0.        ,\n",
       "        0.        ,  0.        ,  0.        ,  0.        ,  0.        ,\n",
       "        0.        ,  0.        ,  0.        ,  0.        ,  0.        ,\n",
       "        0.        ,  0.        ,  0.        ,  0.        ,  0.        ,\n",
       "        0.        ,  0.        ,  0.        ,  0.        ,  0.        ,\n",
       "        0.        ,  0.        ,  0.        ,  0.        ,  0.        ,\n",
       "        0.00555864,  0.        ,  0.        ,  0.        ,  0.        ,\n",
       "        0.        ,  0.        ,  0.        ,  0.        ,  0.        ,\n",
       "        0.00555864,  0.01111729,  0.00555864,  0.01111729,  0.01667593,\n",
       "        0.00555864,  0.01111729,  0.02223458,  0.13896611,  0.02779322,\n",
       "        0.03335187,  0.06670373,  0.09449696,  0.        ,  0.        ,\n",
       "        0.00555864,  0.        ,  0.        ,  0.        ,  0.        ,\n",
       "        0.        ,  0.        ,  0.        ,  0.        ,  0.        ,\n",
       "        0.        ,  0.        ,  0.        ,  0.        ,  0.        ,\n",
       "        0.        ,  0.        ,  0.        ,  0.        ,  0.        ,\n",
       "        0.        ,  0.        ,  0.        ,  0.        ,  0.        ,\n",
       "        0.        ,  0.        ,  0.        ,  0.        ,  0.        ,\n",
       "        0.        ,  0.        ,  0.        ,  0.        ,  0.        ,\n",
       "        0.        ,  0.        ,  0.        ,  0.        ,  0.        ,\n",
       "        0.        ,  0.        ,  0.        ,  0.        ,  0.        ,\n",
       "        0.        ,  0.        ,  0.        ,  0.        ,  0.        ,\n",
       "        0.        ,  0.        ,  0.        ,  0.        ,  0.        ,\n",
       "        0.        ,  0.        ,  0.        ,  0.        ,  0.        ,\n",
       "        0.        ,  0.        ,  0.        ,  0.        ,  0.        ,\n",
       "        0.        ,  0.        ,  0.        ,  0.        ,  0.        ,\n",
       "        0.        ,  0.        ,  0.        ,  0.        ,  0.        ,\n",
       "        0.01111729,  0.00555864,  0.01111729,  0.02223458,  0.01667593,\n",
       "        0.01667593,  0.00555864,  0.13340747,  0.00555864,  0.03891051,\n",
       "        0.16675934,  0.00555864,  0.        ,  0.01111729,  0.00555864,\n",
       "        0.        ,  0.        ,  0.        ,  0.        ,  0.00555864,\n",
       "        0.        ,  0.        ,  0.        ,  0.        ,  0.        ,\n",
       "        0.        ,  0.        ,  0.        ,  0.        ,  0.        ,\n",
       "        0.        ,  0.        ,  0.        ,  0.        ,  0.        ,\n",
       "        0.        ,  0.        ,  0.        ,  0.        ,  0.        ,\n",
       "        0.        ,  0.        ,  0.        ,  0.        ,  0.        ,\n",
       "        0.        ,  0.        ,  0.        ,  0.        ,  0.        ,\n",
       "        0.        ,  0.        ,  0.        ,  0.        ,  0.        ,\n",
       "        0.        ,  0.        ,  0.        ,  0.        ,  0.        ,\n",
       "        0.        ,  0.        ,  0.        ,  0.        ,  0.        ,\n",
       "        0.        ,  0.        ,  0.        ,  0.        ,  0.        ,\n",
       "        0.        ,  0.        ,  0.        ,  0.        ,  0.        ,\n",
       "        0.        ,  0.        ,  0.        ,  0.        ,  0.        ,\n",
       "        0.        ,  0.        ,  0.        ,  0.        ,  0.        ,\n",
       "        0.        ,  0.        ,  0.        ,  0.        ,  0.        ,\n",
       "        0.        ,  0.        ,  0.        ,  0.        ,  0.        ,\n",
       "        0.        ,  0.        ,  0.        ,  0.        ,  0.        ,\n",
       "        0.08337967,  0.27793223,  0.09449696,  0.00555864,  0.        ,\n",
       "        0.        ,  0.        ,  0.        ,  0.        ,  0.        ,\n",
       "        0.        ,  0.        ,  0.        ,  0.        ,  0.        ,\n",
       "        0.        ,  0.        ,  0.        ,  0.        ,  0.        ,\n",
       "        0.        ,  0.        ,  0.        ,  0.        ,  0.        ,\n",
       "        0.        ,  0.        ,  0.        ,  0.        ,  0.        ,\n",
       "        0.        ,  0.        ,  0.        ,  0.        ,  0.        ,\n",
       "        0.        ,  0.        ,  0.        ,  0.        ,  0.        ,\n",
       "        0.        ,  0.        ,  0.        ,  0.        ,  0.        ,\n",
       "        0.        ,  0.        ,  0.        ,  0.        ,  0.        ,\n",
       "        0.        ,  0.        ,  0.        ,  0.        ,  0.        ,\n",
       "        0.        ,  0.        ,  0.        ,  0.        ,  0.        ,\n",
       "        0.        ,  0.        ,  0.        ,  0.        ,  0.        ,\n",
       "        0.        ,  0.        ,  0.        ,  0.        ,  0.        ,\n",
       "        0.        ,  0.        ,  0.        ,  0.        ,  0.        ,\n",
       "        0.        ,  0.        ,  0.        ,  0.        ,  0.        ,\n",
       "        0.        ,  0.        ,  0.        ,  0.        ,  0.        ,\n",
       "        0.        ,  0.        ,  0.        ,  0.        ,  0.        ,\n",
       "        0.        ,  0.        ,  0.        ,  0.        ,  0.        ,\n",
       "        0.        ,  0.        ,  0.        ,  0.        ,  0.        ,\n",
       "        0.4613675 ,  0.        ,  0.        ,  0.        ,  0.        ,\n",
       "        0.        ,  0.        ,  0.        ,  0.        ,  0.        ,\n",
       "        0.        ,  0.        ,  0.        ,  0.        ,  0.        ,\n",
       "        0.        ,  0.        ,  0.        ,  0.        ,  0.        ,\n",
       "        0.        ,  0.        ,  0.        ,  0.        ,  0.        ,\n",
       "        0.        ,  0.        ,  0.        ,  0.        ,  0.        ,\n",
       "        0.        ,  0.        ,  0.        ,  0.        ,  0.        ,\n",
       "        0.        ,  0.        ,  0.        ,  0.        ,  0.        ,\n",
       "        0.        ,  0.        ,  0.        ,  0.        ,  0.        ,\n",
       "        0.        ,  0.        ,  0.        ,  0.        ,  0.        ,\n",
       "        0.        ,  0.        ,  0.        ,  0.        ,  0.        ,\n",
       "        0.        ,  0.        ,  0.        ,  0.        ,  0.        ,\n",
       "        0.        ,  0.        ,  0.        ,  0.        ,  0.        ,\n",
       "        0.        ,  0.        ,  0.        ,  0.        ,  0.        ,\n",
       "        0.        ,  0.        ,  0.        ,  0.        ,  0.        ,\n",
       "        0.        ,  0.        ,  0.        ,  0.        ,  0.        ,\n",
       "        0.        ,  0.        ,  0.        ,  0.        ,  0.        ,\n",
       "        0.        ,  0.        ,  0.        ,  0.        ,  0.        ,\n",
       "        0.        ,  0.        ,  0.        ,  0.        ,  0.        ,\n",
       "        0.        ,  0.        ,  0.        ,  0.        ,  0.        ,\n",
       "        0.45580885,  0.00555864,  0.        ,  0.        ,  0.        ,\n",
       "        0.        ,  0.        ,  0.        ,  0.        ,  0.        ,\n",
       "        0.        ,  0.        ,  0.        ,  0.        ,  0.        ,\n",
       "        0.        ,  0.        ,  0.        ,  0.        ,  0.        ,\n",
       "        0.        ,  0.        ,  0.        ,  0.        ,  0.        ,\n",
       "        0.        ,  0.        ,  0.        ,  0.        ,  0.        ,\n",
       "        0.        ,  0.        ,  0.        ,  0.        ,  0.        ,\n",
       "        0.        ,  0.        ,  0.        ,  0.        ,  0.        ,\n",
       "        0.        ,  0.        ,  0.        ,  0.        ,  0.        ,\n",
       "        0.        ,  0.        ,  0.        ,  0.        ,  0.        ,\n",
       "        0.        ,  0.        ,  0.        ,  0.        ,  0.        ,\n",
       "        0.        ,  0.        ,  0.        ,  0.        ,  0.        ,\n",
       "        0.        ,  0.        ,  0.        ,  0.        ,  0.        ,\n",
       "        0.        ,  0.        ,  0.        ,  0.        ,  0.        ,\n",
       "        0.        ,  0.        ,  0.        ,  0.        ,  0.        ,\n",
       "        0.        ,  0.        ,  0.        ,  0.        ,  0.        ,\n",
       "        0.        ,  0.        ,  0.        ,  0.        ,  0.        ,\n",
       "        0.        ,  0.        ,  0.        ,  0.        ,  0.        ,\n",
       "        0.        ,  0.        ,  0.        ,  0.        ,  0.        ,\n",
       "        0.        ,  0.        ,  0.        ,  0.        ,  0.        ])"
      ]
     },
     "execution_count": 69,
     "metadata": {},
     "output_type": "execute_result"
    }
   ],
   "source": [
    "X[1]"
   ]
  },
  {
   "cell_type": "markdown",
   "metadata": {},
   "source": [
    "## Обучение модели"
   ]
  },
  {
   "cell_type": "markdown",
   "metadata": {},
   "source": [
    "Здесь я написал небольшую cross_validation, я попробовал Ridge (линейная модель с L2-регуляризацией), Lasso (L1 резуляризация, в теории должна лучше работать)."
   ]
  },
  {
   "cell_type": "code",
   "execution_count": 107,
   "metadata": {
    "collapsed": false
   },
   "outputs": [
    {
     "name": "stderr",
     "output_type": "stream",
     "text": [
      "/Users/astepanov/anaconda3/lib/python3.5/site-packages/sklearn/linear_model/coordinate_descent.py:466: ConvergenceWarning: Objective did not converge. You might want to increase the number of iterations\n",
      "  ConvergenceWarning)\n",
      "/Users/astepanov/anaconda3/lib/python3.5/site-packages/sklearn/linear_model/coordinate_descent.py:466: ConvergenceWarning: Objective did not converge. You might want to increase the number of iterations\n",
      "  ConvergenceWarning)\n"
     ]
    },
    {
     "name": "stdout",
     "output_type": "stream",
     "text": [
      "<class 'sklearn.linear_model.coordinate_descent.Lasso'> 0.0001\n",
      "[ 121.83068989  130.3887478    96.73304434]\n",
      "116.317494011\n",
      "----------\n",
      "<class 'sklearn.linear_model.ridge.Ridge'> 0.0001\n",
      "[ 122.53057224  130.99959883  101.18705273]\n",
      "118.239074601\n",
      "----------\n",
      "<class 'sklearn.linear_model.coordinate_descent.Lasso'> 0.001\n",
      "[ 125.70604072  132.07278338  101.14903567]\n",
      "119.642619923\n",
      "----------\n",
      "<class 'sklearn.linear_model.ridge.Ridge'> 0.001\n",
      "[ 122.10582529  130.77051804   99.1455297 ]\n",
      "117.340624344\n",
      "----------\n",
      "<class 'sklearn.linear_model.coordinate_descent.Lasso'> 0.01\n",
      "[ 136.52766534  138.04645292  112.26152955]\n",
      "128.945215939\n",
      "----------\n",
      "<class 'sklearn.linear_model.ridge.Ridge'> 0.01\n",
      "[ 121.4773583   130.57298842   97.62278189]\n",
      "116.557709536\n",
      "----------\n",
      "<class 'sklearn.linear_model.coordinate_descent.Lasso'> 0.1\n",
      "[ 155.44611844  150.9030644   133.95268106]\n",
      "146.767287965\n",
      "----------\n",
      "<class 'sklearn.linear_model.ridge.Ridge'> 0.1\n",
      "[ 121.7787172   130.47703769   97.42165158]\n",
      "116.559135488\n",
      "----------\n",
      "<class 'sklearn.linear_model.coordinate_descent.Lasso'> 1\n",
      "[ 167.77756764  165.56516571  148.26394785]\n",
      "160.535560399\n",
      "----------\n",
      "<class 'sklearn.linear_model.ridge.Ridge'> 1\n",
      "[ 124.18491651  131.239502     99.80334238]\n",
      "118.409253628\n",
      "----------\n",
      "<class 'sklearn.linear_model.coordinate_descent.Lasso'> 10\n",
      "[ 167.77756764  165.56516571  148.26394785]\n",
      "160.535560399\n",
      "----------\n",
      "<class 'sklearn.linear_model.ridge.Ridge'> 10\n",
      "[ 129.44161251  134.19695705  105.35813823]\n",
      "122.998902595\n",
      "----------\n"
     ]
    },
    {
     "name": "stderr",
     "output_type": "stream",
     "text": [
      "/Users/astepanov/anaconda3/lib/python3.5/site-packages/sklearn/linear_model/coordinate_descent.py:466: ConvergenceWarning: Objective did not converge. You might want to increase the number of iterations\n",
      "  ConvergenceWarning)\n"
     ]
    }
   ],
   "source": [
    "regressions = [Lasso, Ridge]\n",
    "for alpha in [1e-4, 1e-3, 1e-2, 1e-1, 1, 10]:\n",
    "    for reg in regressions:\n",
    "        r = reg(alpha=alpha)\n",
    "        print(reg, alpha)\n",
    "        scores = (-cross_val_score(r, X, y, scoring='mean_squared_error'))\n",
    "        print(scores)\n",
    "        print(sum(scores) / 3)\n",
    "        print('----------')"
   ]
  },
  {
   "cell_type": "markdown",
   "metadata": {},
   "source": [
    "Для сравнения ElasticNet (композиция L2 и L1 резуляризаций)"
   ]
  },
  {
   "cell_type": "code",
   "execution_count": 113,
   "metadata": {
    "collapsed": false
   },
   "outputs": [
    {
     "name": "stdout",
     "output_type": "stream",
     "text": [
      "[ 148.16604999  145.71214886  127.74198659]\n",
      "140.540061811\n"
     ]
    }
   ],
   "source": [
    "r = ElasticNet(alpha=0.01, l1_ratio=0.01)\n",
    "scores = (-cross_val_score(r, X, y, scoring='mean_squared_error'))\n",
    "print(scores)\n",
    "print(sum(scores) / 3)"
   ]
  },
  {
   "cell_type": "markdown",
   "metadata": {},
   "source": [
    "## Отправка Решения"
   ]
  },
  {
   "cell_type": "markdown",
   "metadata": {},
   "source": [
    "Было решено использовать Ridge(alpha=0.1). К сожалению, не смотря на хороший скор на cross_validation, это решение набрало на kaggle 148."
   ]
  },
  {
   "cell_type": "code",
   "execution_count": 114,
   "metadata": {
    "collapsed": false
   },
   "outputs": [
    {
     "data": {
      "text/plain": [
       "Ridge(alpha=0.1, copy_X=True, fit_intercept=True, max_iter=None,\n",
       "   normalize=False, random_state=None, solver='auto', tol=0.001)"
      ]
     },
     "execution_count": 114,
     "metadata": {},
     "output_type": "execute_result"
    }
   ],
   "source": [
    "reg = Ridge(alpha=0.1)\n",
    "reg.fit(X, y)"
   ]
  },
  {
   "cell_type": "code",
   "execution_count": 123,
   "metadata": {
    "collapsed": false
   },
   "outputs": [
    {
     "data": {
      "text/html": [
       "<div>\n",
       "<table border=\"1\" class=\"dataframe\">\n",
       "  <thead>\n",
       "    <tr style=\"text-align: right;\">\n",
       "      <th></th>\n",
       "      <th>id</th>\n",
       "      <th>url</th>\n",
       "      <th>count</th>\n",
       "    </tr>\n",
       "  </thead>\n",
       "  <tbody>\n",
       "    <tr>\n",
       "      <th>0</th>\n",
       "      <td>0000000151004FF4ADD746DA10685A01</td>\n",
       "      <td>afisha.ru</td>\n",
       "      <td>2</td>\n",
       "    </tr>\n",
       "    <tr>\n",
       "      <th>1</th>\n",
       "      <td>0000000151004FF4ADD746DA10685A01</td>\n",
       "      <td>aif.ru</td>\n",
       "      <td>1</td>\n",
       "    </tr>\n",
       "    <tr>\n",
       "      <th>2</th>\n",
       "      <td>0000000151004FF4ADD746DA10685A01</td>\n",
       "      <td>aimfar.solution.weborama.fr</td>\n",
       "      <td>1</td>\n",
       "    </tr>\n",
       "    <tr>\n",
       "      <th>3</th>\n",
       "      <td>0000000151004FF4ADD746DA10685A01</td>\n",
       "      <td>alkotest.ru</td>\n",
       "      <td>1</td>\n",
       "    </tr>\n",
       "    <tr>\n",
       "      <th>4</th>\n",
       "      <td>0000000151004FF4ADD746DA10685A01</td>\n",
       "      <td>aptekamos.ru</td>\n",
       "      <td>1</td>\n",
       "    </tr>\n",
       "  </tbody>\n",
       "</table>\n",
       "</div>"
      ],
      "text/plain": [
       "                                 id                          url  count\n",
       "0  0000000151004FF4ADD746DA10685A01                    afisha.ru      2\n",
       "1  0000000151004FF4ADD746DA10685A01                       aif.ru      1\n",
       "2  0000000151004FF4ADD746DA10685A01  aimfar.solution.weborama.fr      1\n",
       "3  0000000151004FF4ADD746DA10685A01                  alkotest.ru      1\n",
       "4  0000000151004FF4ADD746DA10685A01                 aptekamos.ru      1"
      ]
     },
     "execution_count": 123,
     "metadata": {},
     "output_type": "execute_result"
    }
   ],
   "source": [
    "urls_test_df = pd.read_csv('kaggle_data/url_domain_test', header=None, delimiter='\\t')\n",
    "urls_test_df.columns = ['id', 'url', 'count']\n",
    "urls_test_df.head()"
   ]
  },
  {
   "cell_type": "code",
   "execution_count": 124,
   "metadata": {
    "collapsed": false
   },
   "outputs": [
    {
     "data": {
      "text/html": [
       "<div>\n",
       "<table border=\"1\" class=\"dataframe\">\n",
       "  <thead>\n",
       "    <tr style=\"text-align: right;\">\n",
       "      <th></th>\n",
       "      <th>urls</th>\n",
       "      <th>id</th>\n",
       "    </tr>\n",
       "  </thead>\n",
       "  <tbody>\n",
       "    <tr>\n",
       "      <th>0</th>\n",
       "      <td>[(1000bankov.ru, 1), (1tv.ru, 8), (4put.ru, 1)...</td>\n",
       "      <td>000000014A02348E701552980349FF01</td>\n",
       "    </tr>\n",
       "    <tr>\n",
       "      <th>1</th>\n",
       "      <td>[(autorambler.ru, 1), (bilettorg.ru, 1), (dsol...</td>\n",
       "      <td>000000014A10EA183BF8594A0B2AB201</td>\n",
       "    </tr>\n",
       "    <tr>\n",
       "      <th>2</th>\n",
       "      <td>[(photosight.ru, 6), (rambler.ru, 6)]</td>\n",
       "      <td>000000014A4FE5C33A929D4C26943601</td>\n",
       "    </tr>\n",
       "    <tr>\n",
       "      <th>3</th>\n",
       "      <td>[(base.consultant.ru, 1), (dogovor-obrazets.ru...</td>\n",
       "      <td>000000014B7BB9957784A9BC0AC9F401</td>\n",
       "    </tr>\n",
       "    <tr>\n",
       "      <th>4</th>\n",
       "      <td>[(assessor.ru, 2), (audit-it.ru, 1), (base.gar...</td>\n",
       "      <td>000000014C7749F896D82C2B01E8B801</td>\n",
       "    </tr>\n",
       "  </tbody>\n",
       "</table>\n",
       "</div>"
      ],
      "text/plain": [
       "                                                urls  \\\n",
       "0  [(1000bankov.ru, 1), (1tv.ru, 8), (4put.ru, 1)...   \n",
       "1  [(autorambler.ru, 1), (bilettorg.ru, 1), (dsol...   \n",
       "2              [(photosight.ru, 6), (rambler.ru, 6)]   \n",
       "3  [(base.consultant.ru, 1), (dogovor-obrazets.ru...   \n",
       "4  [(assessor.ru, 2), (audit-it.ru, 1), (base.gar...   \n",
       "\n",
       "                                 id  \n",
       "0  000000014A02348E701552980349FF01  \n",
       "1  000000014A10EA183BF8594A0B2AB201  \n",
       "2  000000014A4FE5C33A929D4C26943601  \n",
       "3  000000014B7BB9957784A9BC0AC9F401  \n",
       "4  000000014C7749F896D82C2B01E8B801  "
      ]
     },
     "execution_count": 124,
     "metadata": {},
     "output_type": "execute_result"
    }
   ],
   "source": [
    "urls_test_df = pd.DataFrame(urls_test_df.groupby('id').apply(lambda df: list(zip(df['url'], df['count']))))\n",
    "urls_test_df['id'] = urls_test_df.index\n",
    "urls_test_df.index = range(len(urls_test_df))\n",
    "urls_test_df.columns = ['urls', 'id']\n",
    "urls_test_df.head()"
   ]
  },
  {
   "cell_type": "code",
   "execution_count": 125,
   "metadata": {
    "collapsed": false
   },
   "outputs": [],
   "source": [
    "X_test = []\n",
    "for val in urls_test_df.urls.values:\n",
    "    X_test.append(transform(val))\n",
    "X_test = np.array(X_test)"
   ]
  },
  {
   "cell_type": "code",
   "execution_count": 126,
   "metadata": {
    "collapsed": false
   },
   "outputs": [
    {
     "data": {
      "text/plain": [
       "(19974, 1000)"
      ]
     },
     "execution_count": 126,
     "metadata": {},
     "output_type": "execute_result"
    }
   ],
   "source": [
    "X_test.shape"
   ]
  },
  {
   "cell_type": "code",
   "execution_count": 127,
   "metadata": {
    "collapsed": false
   },
   "outputs": [],
   "source": [
    "y_pred = reg.predict(X_test)"
   ]
  },
  {
   "cell_type": "code",
   "execution_count": 128,
   "metadata": {
    "collapsed": false
   },
   "outputs": [
    {
     "data": {
      "text/plain": [
       "array([ 39.06696015,  42.0904562 ,  51.14819456, ...,  37.54280448,\n",
       "        37.19906284,  38.12296796])"
      ]
     },
     "execution_count": 128,
     "metadata": {},
     "output_type": "execute_result"
    }
   ],
   "source": [
    "y_pred"
   ]
  },
  {
   "cell_type": "code",
   "execution_count": 129,
   "metadata": {
    "collapsed": false
   },
   "outputs": [],
   "source": [
    "urls_test_df['age'] = y_pred"
   ]
  },
  {
   "cell_type": "code",
   "execution_count": 130,
   "metadata": {
    "collapsed": false
   },
   "outputs": [],
   "source": [
    "urls_test_df = urls_test_df[['id', 'age']]\n",
    "urls_test_df.columns = ['Id', 'age']"
   ]
  },
  {
   "cell_type": "code",
   "execution_count": 131,
   "metadata": {
    "collapsed": false
   },
   "outputs": [
    {
     "data": {
      "text/html": [
       "<div>\n",
       "<table border=\"1\" class=\"dataframe\">\n",
       "  <thead>\n",
       "    <tr style=\"text-align: right;\">\n",
       "      <th></th>\n",
       "      <th>Id</th>\n",
       "      <th>age</th>\n",
       "    </tr>\n",
       "  </thead>\n",
       "  <tbody>\n",
       "    <tr>\n",
       "      <th>0</th>\n",
       "      <td>000000014A02348E701552980349FF01</td>\n",
       "      <td>39.066960</td>\n",
       "    </tr>\n",
       "    <tr>\n",
       "      <th>1</th>\n",
       "      <td>000000014A10EA183BF8594A0B2AB201</td>\n",
       "      <td>42.090456</td>\n",
       "    </tr>\n",
       "    <tr>\n",
       "      <th>2</th>\n",
       "      <td>000000014A4FE5C33A929D4C26943601</td>\n",
       "      <td>51.148195</td>\n",
       "    </tr>\n",
       "    <tr>\n",
       "      <th>3</th>\n",
       "      <td>000000014B7BB9957784A9BC0AC9F401</td>\n",
       "      <td>40.113299</td>\n",
       "    </tr>\n",
       "    <tr>\n",
       "      <th>4</th>\n",
       "      <td>000000014C7749F896D82C2B01E8B801</td>\n",
       "      <td>37.109740</td>\n",
       "    </tr>\n",
       "  </tbody>\n",
       "</table>\n",
       "</div>"
      ],
      "text/plain": [
       "                                 Id        age\n",
       "0  000000014A02348E701552980349FF01  39.066960\n",
       "1  000000014A10EA183BF8594A0B2AB201  42.090456\n",
       "2  000000014A4FE5C33A929D4C26943601  51.148195\n",
       "3  000000014B7BB9957784A9BC0AC9F401  40.113299\n",
       "4  000000014C7749F896D82C2B01E8B801  37.109740"
      ]
     },
     "execution_count": 131,
     "metadata": {},
     "output_type": "execute_result"
    }
   ],
   "source": [
    "urls_test_df.head()"
   ]
  },
  {
   "cell_type": "code",
   "execution_count": 132,
   "metadata": {
    "collapsed": false
   },
   "outputs": [],
   "source": [
    "random_sol = pd.read_csv('kaggle_data/random_solution.csv')\n",
    "miss_idx = set(random_sol.Id.values) - set(urls_test_df.Id.values)\n",
    "miss_df = pd.DataFrame(list(zip(list(miss_idx), np.ones(len(miss_idx)))))\n",
    "miss_df.columns = ['Id', 'age']"
   ]
  },
  {
   "cell_type": "code",
   "execution_count": 133,
   "metadata": {
    "collapsed": false
   },
   "outputs": [],
   "source": [
    "urls_test_df = urls_test_df.append(miss_df, ignore_index=True)"
   ]
  },
  {
   "cell_type": "code",
   "execution_count": 134,
   "metadata": {
    "collapsed": true
   },
   "outputs": [],
   "source": [
    "urls_test_df.to_csv('kaggle_data/solution.csv', index=False)"
   ]
  },
  {
   "cell_type": "code",
   "execution_count": 135,
   "metadata": {
    "collapsed": false
   },
   "outputs": [
    {
     "name": "stdout",
     "output_type": "stream",
     "text": [
      "   19980 kaggle_data/solution.csv\r\n"
     ]
    }
   ],
   "source": [
    "!wc -l kaggle_data/solution.csv"
   ]
  },
  {
   "cell_type": "markdown",
   "metadata": {
    "collapsed": true
   },
   "source": [
    "FIN."
   ]
  }
 ],
 "metadata": {
  "kernelspec": {
   "display_name": "Python 3",
   "language": "python",
   "name": "python3"
  },
  "language_info": {
   "codemirror_mode": {
    "name": "ipython",
    "version": 3
   },
   "file_extension": ".py",
   "mimetype": "text/x-python",
   "name": "python",
   "nbconvert_exporter": "python",
   "pygments_lexer": "ipython3",
   "version": "3.5.1"
  }
 },
 "nbformat": 4,
 "nbformat_minor": 0
}
